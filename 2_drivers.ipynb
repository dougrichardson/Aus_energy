{
 "cells": [
  {
   "cell_type": "markdown",
   "id": "f7945b80-32e7-40fa-8d9c-bcf61da26d1e",
   "metadata": {
    "tags": []
   },
   "source": [
    "# Climate drivers"
   ]
  },
  {
   "cell_type": "markdown",
   "id": "6208ac53-c2f0-411f-9aa0-6a3e9949be4d",
   "metadata": {},
   "source": [
    "We want to look at climate features during low energy events:\n",
    "1. Daily events: solar and wind lulls. Pick out most spatially extensive lull-days (separate for each season, e.g. sum lulls over all regions, pick top 10% winter days.\n",
    "    - daily circulation composites: MSLP, 500gph, 200gph. Do we get H/Ls in similar positions? What is the jet doing? Maybe a plot of wind vectors - nice to see the direction and speed?\n",
    "2. Anomalous seasons: sum number of events over a season and look at the largest. Sub-question: do we get consecutive seasons with lots of regions experiencing events? This might go better in an earlier notebook.\n",
    "    - modes of variability: SST, the variable used to calculate SAM. What do ENSO, IOD, SAM look like?\n",
    "    \n",
    "And, we want to do this the other way around. Do ENSO, IOD, SAM years lead us to energy lulls?"
   ]
  },
  {
   "cell_type": "code",
   "execution_count": 1,
   "id": "ec2e6e89-20c7-4356-b6b9-bc8e18e4bae9",
   "metadata": {},
   "outputs": [],
   "source": [
    "from dask.distributed import Client,LocalCluster\n",
    "from dask_jobqueue import PBSCluster"
   ]
  },
  {
   "cell_type": "code",
   "execution_count": 2,
   "id": "141b36b6-412b-471b-b1c8-139de88976d8",
   "metadata": {},
   "outputs": [],
   "source": [
    "# One node on Gadi has 48 cores - try and use up a full node before going to multiple nodes (jobs)\n",
    "\n",
    "walltime = '01:00:00'\n",
    "cores = 2\n",
    "memory = str(4 * cores) + 'GB'\n",
    "\n",
    "cluster = PBSCluster(walltime=str(walltime), cores=cores, memory=str(memory), processes=cores,\n",
    "                     job_extra_directives=['-q normal',\n",
    "                                           '-P w42',\n",
    "                                           '-l ncpus='+str(cores),\n",
    "                                           '-l mem='+str(memory),\n",
    "                                           '-l storage=gdata/w42+gdata/rt52'],\n",
    "                     local_directory='$TMPDIR',\n",
    "                     job_directives_skip=[\"select\"])\n",
    "                     # python=os.environ[\"DASK_PYTHON\"])"
   ]
  },
  {
   "cell_type": "code",
   "execution_count": 3,
   "id": "087c8e91-338d-4998-8bfd-65087ec089ec",
   "metadata": {},
   "outputs": [],
   "source": [
    "cluster.scale(jobs=1)\n",
    "client = Client(cluster)"
   ]
  },
  {
   "cell_type": "code",
   "execution_count": 4,
   "id": "d53116ac-7ad9-4c9a-afc2-1e148f14a428",
   "metadata": {},
   "outputs": [
    {
     "data": {
      "text/html": [
       "<div>\n",
       "    <div style=\"width: 24px; height: 24px; background-color: #e1e1e1; border: 3px solid #9D9D9D; border-radius: 5px; position: absolute;\"> </div>\n",
       "    <div style=\"margin-left: 48px;\">\n",
       "        <h3 style=\"margin-bottom: 0px;\">Client</h3>\n",
       "        <p style=\"color: #9D9D9D; margin-bottom: 0px;\">Client-5bf2122e-b985-11ed-a1a2-0000018cfe80</p>\n",
       "        <table style=\"width: 100%; text-align: left;\">\n",
       "\n",
       "        <tr>\n",
       "        \n",
       "            <td style=\"text-align: left;\"><strong>Connection method:</strong> Cluster object</td>\n",
       "            <td style=\"text-align: left;\"><strong>Cluster type:</strong> dask_jobqueue.PBSCluster</td>\n",
       "        \n",
       "        </tr>\n",
       "\n",
       "        \n",
       "            <tr>\n",
       "                <td style=\"text-align: left;\">\n",
       "                    <strong>Dashboard: </strong> <a href=\"http://10.6.65.31:8787/status\" target=\"_blank\">http://10.6.65.31:8787/status</a>\n",
       "                </td>\n",
       "                <td style=\"text-align: left;\"></td>\n",
       "            </tr>\n",
       "        \n",
       "\n",
       "        </table>\n",
       "\n",
       "        \n",
       "            <button style=\"margin-bottom: 12px;\" data-commandlinker-command=\"dask:populate-and-launch-layout\" data-commandlinker-args='{\"url\": \"http://10.6.65.31:8787/status\" }'>\n",
       "                Launch dashboard in JupyterLab\n",
       "            </button>\n",
       "        \n",
       "\n",
       "        \n",
       "            <details>\n",
       "            <summary style=\"margin-bottom: 20px;\"><h3 style=\"display: inline;\">Cluster Info</h3></summary>\n",
       "            <div class=\"jp-RenderedHTMLCommon jp-RenderedHTML jp-mod-trusted jp-OutputArea-output\">\n",
       "    <div style=\"width: 24px; height: 24px; background-color: #e1e1e1; border: 3px solid #9D9D9D; border-radius: 5px; position: absolute;\">\n",
       "    </div>\n",
       "    <div style=\"margin-left: 48px;\">\n",
       "        <h3 style=\"margin-bottom: 0px; margin-top: 0px;\">PBSCluster</h3>\n",
       "        <p style=\"color: #9D9D9D; margin-bottom: 0px;\">d57fe439</p>\n",
       "        <table style=\"width: 100%; text-align: left;\">\n",
       "            <tr>\n",
       "                <td style=\"text-align: left;\">\n",
       "                    <strong>Dashboard:</strong> <a href=\"http://10.6.65.31:8787/status\" target=\"_blank\">http://10.6.65.31:8787/status</a>\n",
       "                </td>\n",
       "                <td style=\"text-align: left;\">\n",
       "                    <strong>Workers:</strong> 0\n",
       "                </td>\n",
       "            </tr>\n",
       "            <tr>\n",
       "                <td style=\"text-align: left;\">\n",
       "                    <strong>Total threads:</strong> 0\n",
       "                </td>\n",
       "                <td style=\"text-align: left;\">\n",
       "                    <strong>Total memory:</strong> 0 B\n",
       "                </td>\n",
       "            </tr>\n",
       "            \n",
       "        </table>\n",
       "\n",
       "        <details>\n",
       "            <summary style=\"margin-bottom: 20px;\">\n",
       "                <h3 style=\"display: inline;\">Scheduler Info</h3>\n",
       "            </summary>\n",
       "\n",
       "            <div style=\"\">\n",
       "    <div>\n",
       "        <div style=\"width: 24px; height: 24px; background-color: #FFF7E5; border: 3px solid #FF6132; border-radius: 5px; position: absolute;\"> </div>\n",
       "        <div style=\"margin-left: 48px;\">\n",
       "            <h3 style=\"margin-bottom: 0px;\">Scheduler</h3>\n",
       "            <p style=\"color: #9D9D9D; margin-bottom: 0px;\">Scheduler-9e0125f9-47ee-4cdf-ad65-3848bcf18743</p>\n",
       "            <table style=\"width: 100%; text-align: left;\">\n",
       "                <tr>\n",
       "                    <td style=\"text-align: left;\">\n",
       "                        <strong>Comm:</strong> tcp://10.6.65.31:45471\n",
       "                    </td>\n",
       "                    <td style=\"text-align: left;\">\n",
       "                        <strong>Workers:</strong> 0\n",
       "                    </td>\n",
       "                </tr>\n",
       "                <tr>\n",
       "                    <td style=\"text-align: left;\">\n",
       "                        <strong>Dashboard:</strong> <a href=\"http://10.6.65.31:8787/status\" target=\"_blank\">http://10.6.65.31:8787/status</a>\n",
       "                    </td>\n",
       "                    <td style=\"text-align: left;\">\n",
       "                        <strong>Total threads:</strong> 0\n",
       "                    </td>\n",
       "                </tr>\n",
       "                <tr>\n",
       "                    <td style=\"text-align: left;\">\n",
       "                        <strong>Started:</strong> Just now\n",
       "                    </td>\n",
       "                    <td style=\"text-align: left;\">\n",
       "                        <strong>Total memory:</strong> 0 B\n",
       "                    </td>\n",
       "                </tr>\n",
       "            </table>\n",
       "        </div>\n",
       "    </div>\n",
       "\n",
       "    <details style=\"margin-left: 48px;\">\n",
       "        <summary style=\"margin-bottom: 20px;\">\n",
       "            <h3 style=\"display: inline;\">Workers</h3>\n",
       "        </summary>\n",
       "\n",
       "        \n",
       "\n",
       "    </details>\n",
       "</div>\n",
       "\n",
       "        </details>\n",
       "    </div>\n",
       "</div>\n",
       "            </details>\n",
       "        \n",
       "\n",
       "    </div>\n",
       "</div>"
      ],
      "text/plain": [
       "<Client: 'tcp://10.6.65.31:45471' processes=0 threads=0, memory=0 B>"
      ]
     },
     "execution_count": 4,
     "metadata": {},
     "output_type": "execute_result"
    }
   ],
   "source": [
    "client"
   ]
  },
  {
   "cell_type": "code",
   "execution_count": 5,
   "id": "11ddf69c-e36e-406e-8f54-b5a94b235125",
   "metadata": {},
   "outputs": [],
   "source": [
    "# client.close()\n",
    "# cluster.close()"
   ]
  },
  {
   "cell_type": "code",
   "execution_count": 21,
   "id": "cc8c38f5-4367-46b4-91ab-c9e18baf580e",
   "metadata": {},
   "outputs": [],
   "source": [
    "%load_ext autoreload\n",
    "%autoreload 2"
   ]
  },
  {
   "cell_type": "code",
   "execution_count": 26,
   "id": "489d7322-9f5f-4dae-8908-bfa4801d23b1",
   "metadata": {},
   "outputs": [],
   "source": [
    "%reload_ext autoreload\n",
    "%autoreload 2"
   ]
  },
  {
   "cell_type": "code",
   "execution_count": 8,
   "id": "624b798d-ba12-4b30-b948-7f85e14bcfcb",
   "metadata": {},
   "outputs": [],
   "source": [
    "import warnings\n",
    "\n",
    "import xarray as xr\n",
    "import numpy as np\n",
    "# from xhistogram.xarray import histogram\n",
    "\n",
    "%matplotlib inline\n",
    "import matplotlib\n",
    "import matplotlib.pyplot as plt\n",
    "# from mpl_toolkits.axes_grid1.inset_locator import inset_axes\n",
    "\n",
    "import cartopy.crs as ccrs\n",
    "import cartopy\n",
    "cartopy.config['pre_existing_data_dir'] = '/g/data/w42/dr6273/work/data/cartopy-data/'\n",
    "cartopy.config['data_dir'] = '/g/data/w42/dr6273/work/data/cartopy-data/'"
   ]
  },
  {
   "cell_type": "code",
   "execution_count": 9,
   "id": "4c075c09-f239-4f24-87f7-7f5942d49a77",
   "metadata": {},
   "outputs": [],
   "source": [
    "import functions as fn\n",
    "\n",
    "plt_params = fn.get_plot_params()\n",
    "prop_cycle = plt.rcParams['axes.prop_cycle']\n",
    "colors = prop_cycle.by_key()['color']"
   ]
  },
  {
   "cell_type": "markdown",
   "id": "eee68252-ca0e-4bcf-ac96-920ace3e3586",
   "metadata": {},
   "source": [
    "# Load masks"
   ]
  },
  {
   "cell_type": "code",
   "execution_count": 34,
   "id": "493134a1-4f30-4fec-8848-fe475c991168",
   "metadata": {},
   "outputs": [],
   "source": [
    "rez_mask = fn.get_rez_mask()"
   ]
  },
  {
   "cell_type": "markdown",
   "id": "13b379b2-f471-448f-bfe0-1d2216cebd32",
   "metadata": {},
   "source": [
    "# Load energy source and demand data"
   ]
  },
  {
   "cell_type": "code",
   "execution_count": 10,
   "id": "87cbee15-c095-4764-abaf-4177b8a84128",
   "metadata": {},
   "outputs": [],
   "source": [
    "years = range(1959, 2021)"
   ]
  },
  {
   "cell_type": "markdown",
   "id": "1570291c-1973-4f0c-b527-19d791880e72",
   "metadata": {},
   "source": [
    "Sources: daily wind, daily solar and monthly runoff"
   ]
  },
  {
   "cell_type": "code",
   "execution_count": 11,
   "id": "8a52f5dc-49a6-4a91-a0ff-edcef96f59ba",
   "metadata": {},
   "outputs": [],
   "source": [
    "rez_100w = xr.open_zarr(\n",
    "    '/g/data/w42/dr6273/work/projects/Aus_energy/data/100w_era5_daily_1400UTC_sfc_'+str(years[0])+'-'+str(years[-1])+'_REZ_region_mean.zarr',\n",
    "    consolidated=True\n",
    ")['100w'].compute()"
   ]
  },
  {
   "cell_type": "code",
   "execution_count": 12,
   "id": "00288098-987b-4291-85c2-523e3d9383a5",
   "metadata": {},
   "outputs": [],
   "source": [
    "rez_mssrd = xr.open_zarr(\n",
    "    '/g/data/w42/dr6273/work/projects/Aus_energy/data/mssrd_era5_daily_1400UTC_sfc_'+str(years[0])+'-'+str(years[-1])+'_REZ_region_mean.zarr',\n",
    "    consolidated=True\n",
    ")['mssrd'].compute()"
   ]
  },
  {
   "cell_type": "code",
   "execution_count": 13,
   "id": "b2a9d71e-3be9-47d7-8422-2ea72a21033b",
   "metadata": {},
   "outputs": [],
   "source": [
    "rez_ro = xr.open_zarr(\n",
    "    '/g/data/w42/dr6273/work/projects/Aus_energy/data/ro_era5_monthly-averaged_sfc_'+str(years[0])+'-'+str(years[-1])+'_REZ_region_mean.zarr',\n",
    "    consolidated=True\n",
    ")['ro'].compute()"
   ]
  },
  {
   "cell_type": "markdown",
   "id": "2b9ac26f-f29b-487d-8ac9-df5ebe088038",
   "metadata": {},
   "source": [
    "Annual runoff"
   ]
  },
  {
   "cell_type": "code",
   "execution_count": 14,
   "id": "c2535eea-5d8f-4aac-a3b1-a283cffaccf4",
   "metadata": {},
   "outputs": [],
   "source": [
    "rez_ro_ann = rez_ro.resample(time='1YS').sum()"
   ]
  },
  {
   "cell_type": "markdown",
   "id": "2ff280f3-9800-4757-be9f-39b178cfb7a7",
   "metadata": {},
   "source": [
    "Thresholds for event definitions"
   ]
  },
  {
   "cell_type": "code",
   "execution_count": 15,
   "id": "c149941f-53b9-49dd-a492-b3c0a121a7eb",
   "metadata": {},
   "outputs": [],
   "source": [
    "thresh_100w = rez_100w.quantile(0.25, ['time', 'region']) #4 # Close to all region-time 25th percentile of 4.19\n",
    "thresh_mssrd = rez_mssrd.quantile(0.25, ['time', 'region']) #170 # All region-time 25th percentile is 132.7\n",
    "thresh_ro = rez_ro_ann.quantile(0.25, ['time'])\n",
    "thresh_t_cool = 15\n",
    "thresh_t_warm = 21"
   ]
  },
  {
   "cell_type": "markdown",
   "id": "fd64ac77-39b9-48aa-a87d-03acfcb5a27d",
   "metadata": {},
   "source": [
    "### Events"
   ]
  },
  {
   "cell_type": "code",
   "execution_count": 16,
   "id": "0a6a78bb-85d9-48d4-817a-ce144c70e4a2",
   "metadata": {},
   "outputs": [],
   "source": [
    "events_100w = fn.get_events(rez_100w, thresh_100w, tail='lower')"
   ]
  },
  {
   "cell_type": "code",
   "execution_count": 30,
   "id": "8b3334ae-bdb8-4144-9d8d-58f26a9c244c",
   "metadata": {},
   "outputs": [],
   "source": [
    "events_mssrd = fn.get_events(rez_mssrd, thresh_mssrd, tail='lower')"
   ]
  },
  {
   "cell_type": "code",
   "execution_count": 31,
   "id": "8b4d48a9-dfb0-4276-a093-b93c87969747",
   "metadata": {},
   "outputs": [],
   "source": [
    "events_100w_mssrd = fn.get_compound_events(rez_100w, rez_mssrd, thresh_100w, thresh_mssrd)"
   ]
  },
  {
   "cell_type": "markdown",
   "id": "82539a77-305a-48cc-94f3-d0d69dc22c71",
   "metadata": {},
   "source": [
    "### Daily events over all regions"
   ]
  },
  {
   "cell_type": "code",
   "execution_count": 35,
   "id": "3a363e45-613c-4b4c-adff-fd011bf475b1",
   "metadata": {},
   "outputs": [],
   "source": [
    "simul_100w = fn.concurrent_lulls(events_100w, [1, 3, 5, 7], rez_mask)\n",
    "simul_mssrd = fn.concurrent_lulls(events_mssrd, [2, 3, 6, 7], rez_mask)\n",
    "simul_100w_mssrd = fn.concurrent_lulls(events_100w_mssrd, [3, 7], rez_mask)"
   ]
  },
  {
   "cell_type": "markdown",
   "id": "eb35d52b-63de-4eca-aca8-852bc9a8b99a",
   "metadata": {},
   "source": [
    "### Seasonal events over all regions"
   ]
  },
  {
   "cell_type": "code",
   "execution_count": 36,
   "id": "411c3b5a-b49b-4873-b767-5c95200cb774",
   "metadata": {},
   "outputs": [],
   "source": [
    "season_100w = fn.seasonal_mean(simul_100w)\n",
    "season_mssrd = fn.seasonal_mean(simul_mssrd)\n",
    "season_100w_mssrd = fn.seasonal_mean(simul_100w_mssrd)"
   ]
  },
  {
   "cell_type": "markdown",
   "id": "48959f64-80cb-4b1c-bbc2-56cd7f3399db",
   "metadata": {},
   "source": [
    "# Close cluster"
   ]
  },
  {
   "cell_type": "code",
   "execution_count": 39,
   "id": "9a4e0e4b-0e27-4ac4-985a-2f3304190316",
   "metadata": {},
   "outputs": [],
   "source": [
    "client.close()\n",
    "cluster.close()"
   ]
  },
  {
   "cell_type": "code",
   "execution_count": null,
   "id": "73ec1d19-4f56-47b1-aba7-1c7dea686df8",
   "metadata": {},
   "outputs": [],
   "source": []
  }
 ],
 "metadata": {
  "kernelspec": {
   "display_name": "Python (pangeo)",
   "language": "python",
   "name": "pangeo"
  },
  "language_info": {
   "codemirror_mode": {
    "name": "ipython",
    "version": 3
   },
   "file_extension": ".py",
   "mimetype": "text/x-python",
   "name": "python",
   "nbconvert_exporter": "python",
   "pygments_lexer": "ipython3",
   "version": "3.10.8"
  }
 },
 "nbformat": 4,
 "nbformat_minor": 5
}
