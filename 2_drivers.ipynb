{
 "cells": [
  {
   "cell_type": "markdown",
   "id": "6208ac53-c2f0-411f-9aa0-6a3e9949be4d",
   "metadata": {},
   "source": [
    "We want to look at climate features during low energy events:\n",
    "1. Daily events: solar and wind lulls. Pick out most spatially extensive lull-days (separate for each season, e.g. sum lulls over all regions, pick top 10% winter days.\n",
    "    - daily circulation composites: MSLP, 500gph, 200gph. Do we get H/Ls in similar positions? What is the jet doing? Maybe a plot of wind vectors - nice to see the direction and speed?\n",
    "2. Anomalous seasons: sum number of events over a season and look at the largest. Sub-question: do we get consecutive seasons with lots of regions experiencing events? This might go better in an earlier notebook.\n",
    "    - modes of variability: SST, the variable used to calculate SAM. What do ENSO, IOD, SAM look like?\n",
    "    \n",
    "And, we want to do this the other way around. Do ENSO, IOD, SAM years lead us to energy lulls?"
   ]
  },
  {
   "cell_type": "code",
   "execution_count": null,
   "id": "8b0f7de5-69c3-42ef-bb87-7a38e399ace8",
   "metadata": {},
   "outputs": [],
   "source": []
  }
 ],
 "metadata": {
  "kernelspec": {
   "display_name": "Python (pangeo)",
   "language": "python",
   "name": "pangeo"
  },
  "language_info": {
   "codemirror_mode": {
    "name": "ipython",
    "version": 3
   },
   "file_extension": ".py",
   "mimetype": "text/x-python",
   "name": "python",
   "nbconvert_exporter": "python",
   "pygments_lexer": "ipython3",
   "version": "3.10.8"
  }
 },
 "nbformat": 4,
 "nbformat_minor": 5
}
