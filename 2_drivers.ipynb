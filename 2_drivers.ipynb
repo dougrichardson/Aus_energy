{
 "cells": [
  {
   "cell_type": "markdown",
   "id": "f7945b80-32e7-40fa-8d9c-bcf61da26d1e",
   "metadata": {
    "tags": []
   },
   "source": [
    "# Climate drivers"
   ]
  },
  {
   "cell_type": "markdown",
   "id": "6208ac53-c2f0-411f-9aa0-6a3e9949be4d",
   "metadata": {},
   "source": [
    "We want to look at climate features during low energy events:\n",
    "1. Daily events: solar and wind lulls. Pick out most spatially extensive lull-days (separate for each season, e.g. sum lulls over all regions, pick top 10% winter days.\n",
    "    - daily circulation composites: MSLP, 500gph, 200gph. Do we get H/Ls in similar positions? What is the jet doing? Maybe a plot of wind vectors - nice to see the direction and speed?\n",
    "2. Anomalous seasons: sum number of events over a season and look at the largest. Sub-question: do we get consecutive seasons with lots of regions experiencing events? This might go better in an earlier notebook.\n",
    "    - modes of variability: SST, the variable used to calculate SAM. What do ENSO, IOD, SAM look like?\n",
    "    \n",
    "And, we want to do this the other way around. Do ENSO, IOD, SAM years lead us to energy lulls?"
   ]
  },
  {
   "cell_type": "code",
   "execution_count": 1,
   "id": "ec2e6e89-20c7-4356-b6b9-bc8e18e4bae9",
   "metadata": {},
   "outputs": [],
   "source": [
    "from dask.distributed import Client,LocalCluster\n",
    "from dask_jobqueue import PBSCluster"
   ]
  },
  {
   "cell_type": "code",
   "execution_count": 2,
   "id": "141b36b6-412b-471b-b1c8-139de88976d8",
   "metadata": {},
   "outputs": [],
   "source": [
    "# One node on Gadi has 48 cores - try and use up a full node before going to multiple nodes (jobs)\n",
    "\n",
    "walltime = '00:40:00'\n",
    "cores = 4\n",
    "memory = str(4 * cores) + 'GB'\n",
    "\n",
    "cluster = PBSCluster(walltime=str(walltime), cores=cores, memory=str(memory), processes=cores,\n",
    "                     job_extra_directives=['-q normal',\n",
    "                                           '-P w42',\n",
    "                                           '-l ncpus='+str(cores),\n",
    "                                           '-l mem='+str(memory),\n",
    "                                           '-l storage=gdata/w42+gdata/rt52'],\n",
    "                     local_directory='$TMPDIR',\n",
    "                     job_directives_skip=[\"select\"])\n",
    "                     # python=os.environ[\"DASK_PYTHON\"])"
   ]
  },
  {
   "cell_type": "code",
   "execution_count": 3,
   "id": "087c8e91-338d-4998-8bfd-65087ec089ec",
   "metadata": {},
   "outputs": [],
   "source": [
    "cluster.scale(jobs=1)\n",
    "client = Client(cluster)"
   ]
  },
  {
   "cell_type": "code",
   "execution_count": 4,
   "id": "d53116ac-7ad9-4c9a-afc2-1e148f14a428",
   "metadata": {},
   "outputs": [
    {
     "data": {
      "text/html": [
       "<div>\n",
       "    <div style=\"width: 24px; height: 24px; background-color: #e1e1e1; border: 3px solid #9D9D9D; border-radius: 5px; position: absolute;\"> </div>\n",
       "    <div style=\"margin-left: 48px;\">\n",
       "        <h3 style=\"margin-bottom: 0px;\">Client</h3>\n",
       "        <p style=\"color: #9D9D9D; margin-bottom: 0px;\">Client-4b9d175a-bbe6-11ed-aefc-00000092fe80</p>\n",
       "        <table style=\"width: 100%; text-align: left;\">\n",
       "\n",
       "        <tr>\n",
       "        \n",
       "            <td style=\"text-align: left;\"><strong>Connection method:</strong> Cluster object</td>\n",
       "            <td style=\"text-align: left;\"><strong>Cluster type:</strong> dask_jobqueue.PBSCluster</td>\n",
       "        \n",
       "        </tr>\n",
       "\n",
       "        \n",
       "            <tr>\n",
       "                <td style=\"text-align: left;\">\n",
       "                    <strong>Dashboard: </strong> <a href=\"http://10.6.56.68:8787/status\" target=\"_blank\">http://10.6.56.68:8787/status</a>\n",
       "                </td>\n",
       "                <td style=\"text-align: left;\"></td>\n",
       "            </tr>\n",
       "        \n",
       "\n",
       "        </table>\n",
       "\n",
       "        \n",
       "            <button style=\"margin-bottom: 12px;\" data-commandlinker-command=\"dask:populate-and-launch-layout\" data-commandlinker-args='{\"url\": \"http://10.6.56.68:8787/status\" }'>\n",
       "                Launch dashboard in JupyterLab\n",
       "            </button>\n",
       "        \n",
       "\n",
       "        \n",
       "            <details>\n",
       "            <summary style=\"margin-bottom: 20px;\"><h3 style=\"display: inline;\">Cluster Info</h3></summary>\n",
       "            <div class=\"jp-RenderedHTMLCommon jp-RenderedHTML jp-mod-trusted jp-OutputArea-output\">\n",
       "    <div style=\"width: 24px; height: 24px; background-color: #e1e1e1; border: 3px solid #9D9D9D; border-radius: 5px; position: absolute;\">\n",
       "    </div>\n",
       "    <div style=\"margin-left: 48px;\">\n",
       "        <h3 style=\"margin-bottom: 0px; margin-top: 0px;\">PBSCluster</h3>\n",
       "        <p style=\"color: #9D9D9D; margin-bottom: 0px;\">873617f2</p>\n",
       "        <table style=\"width: 100%; text-align: left;\">\n",
       "            <tr>\n",
       "                <td style=\"text-align: left;\">\n",
       "                    <strong>Dashboard:</strong> <a href=\"http://10.6.56.68:8787/status\" target=\"_blank\">http://10.6.56.68:8787/status</a>\n",
       "                </td>\n",
       "                <td style=\"text-align: left;\">\n",
       "                    <strong>Workers:</strong> 0\n",
       "                </td>\n",
       "            </tr>\n",
       "            <tr>\n",
       "                <td style=\"text-align: left;\">\n",
       "                    <strong>Total threads:</strong> 0\n",
       "                </td>\n",
       "                <td style=\"text-align: left;\">\n",
       "                    <strong>Total memory:</strong> 0 B\n",
       "                </td>\n",
       "            </tr>\n",
       "            \n",
       "        </table>\n",
       "\n",
       "        <details>\n",
       "            <summary style=\"margin-bottom: 20px;\">\n",
       "                <h3 style=\"display: inline;\">Scheduler Info</h3>\n",
       "            </summary>\n",
       "\n",
       "            <div style=\"\">\n",
       "    <div>\n",
       "        <div style=\"width: 24px; height: 24px; background-color: #FFF7E5; border: 3px solid #FF6132; border-radius: 5px; position: absolute;\"> </div>\n",
       "        <div style=\"margin-left: 48px;\">\n",
       "            <h3 style=\"margin-bottom: 0px;\">Scheduler</h3>\n",
       "            <p style=\"color: #9D9D9D; margin-bottom: 0px;\">Scheduler-555865df-b9a2-4fc1-ad02-8ba0983fede2</p>\n",
       "            <table style=\"width: 100%; text-align: left;\">\n",
       "                <tr>\n",
       "                    <td style=\"text-align: left;\">\n",
       "                        <strong>Comm:</strong> tcp://10.6.56.68:39237\n",
       "                    </td>\n",
       "                    <td style=\"text-align: left;\">\n",
       "                        <strong>Workers:</strong> 0\n",
       "                    </td>\n",
       "                </tr>\n",
       "                <tr>\n",
       "                    <td style=\"text-align: left;\">\n",
       "                        <strong>Dashboard:</strong> <a href=\"http://10.6.56.68:8787/status\" target=\"_blank\">http://10.6.56.68:8787/status</a>\n",
       "                    </td>\n",
       "                    <td style=\"text-align: left;\">\n",
       "                        <strong>Total threads:</strong> 0\n",
       "                    </td>\n",
       "                </tr>\n",
       "                <tr>\n",
       "                    <td style=\"text-align: left;\">\n",
       "                        <strong>Started:</strong> Just now\n",
       "                    </td>\n",
       "                    <td style=\"text-align: left;\">\n",
       "                        <strong>Total memory:</strong> 0 B\n",
       "                    </td>\n",
       "                </tr>\n",
       "            </table>\n",
       "        </div>\n",
       "    </div>\n",
       "\n",
       "    <details style=\"margin-left: 48px;\">\n",
       "        <summary style=\"margin-bottom: 20px;\">\n",
       "            <h3 style=\"display: inline;\">Workers</h3>\n",
       "        </summary>\n",
       "\n",
       "        \n",
       "\n",
       "    </details>\n",
       "</div>\n",
       "\n",
       "        </details>\n",
       "    </div>\n",
       "</div>\n",
       "            </details>\n",
       "        \n",
       "\n",
       "    </div>\n",
       "</div>"
      ],
      "text/plain": [
       "<Client: 'tcp://10.6.56.68:39237' processes=0 threads=0, memory=0 B>"
      ]
     },
     "execution_count": 4,
     "metadata": {},
     "output_type": "execute_result"
    }
   ],
   "source": [
    "client"
   ]
  },
  {
   "cell_type": "code",
   "execution_count": 5,
   "id": "11ddf69c-e36e-406e-8f54-b5a94b235125",
   "metadata": {},
   "outputs": [],
   "source": [
    "# client.close()\n",
    "# cluster.close()"
   ]
  },
  {
   "cell_type": "code",
   "execution_count": 6,
   "id": "cc8c38f5-4367-46b4-91ab-c9e18baf580e",
   "metadata": {},
   "outputs": [],
   "source": [
    "# %load_ext autoreload\n",
    "# %autoreload 2"
   ]
  },
  {
   "cell_type": "code",
   "execution_count": 7,
   "id": "489d7322-9f5f-4dae-8908-bfa4801d23b1",
   "metadata": {},
   "outputs": [],
   "source": [
    "# %reload_ext autoreload\n",
    "# %autoreload 2"
   ]
  },
  {
   "cell_type": "code",
   "execution_count": 8,
   "id": "624b798d-ba12-4b30-b948-7f85e14bcfcb",
   "metadata": {},
   "outputs": [],
   "source": [
    "# import warnings\n",
    "\n",
    "import xarray as xr\n",
    "import numpy as np\n",
    "# from xhistogram.xarray import histogram\n",
    "\n",
    "%matplotlib inline\n",
    "import matplotlib\n",
    "import matplotlib.pyplot as plt\n",
    "# from mpl_toolkits.axes_grid1.inset_locator import inset_axes\n",
    "\n",
    "import cartopy.crs as ccrs\n",
    "import cartopy\n",
    "cartopy.config['pre_existing_data_dir'] = '/g/data/w42/dr6273/work/data/cartopy-data/'\n",
    "cartopy.config['data_dir'] = '/g/data/w42/dr6273/work/data/cartopy-data/'"
   ]
  },
  {
   "cell_type": "code",
   "execution_count": 9,
   "id": "4c075c09-f239-4f24-87f7-7f5942d49a77",
   "metadata": {},
   "outputs": [],
   "source": [
    "import functions as fn\n",
    "\n",
    "plt_params = fn.get_plot_params()\n",
    "prop_cycle = plt.rcParams['axes.prop_cycle']\n",
    "colors = prop_cycle.by_key()['color']"
   ]
  },
  {
   "cell_type": "code",
   "execution_count": 10,
   "id": "87cbee15-c095-4764-abaf-4177b8a84128",
   "metadata": {},
   "outputs": [],
   "source": [
    "years = range(1959, 2021)\n",
    "\n",
    "data_fp = '/g/data/w42/dr6273/work/data/'"
   ]
  },
  {
   "cell_type": "markdown",
   "id": "eee68252-ca0e-4bcf-ac96-920ace3e3586",
   "metadata": {},
   "source": [
    "# Load masks"
   ]
  },
  {
   "cell_type": "code",
   "execution_count": 11,
   "id": "493134a1-4f30-4fec-8848-fe475c991168",
   "metadata": {},
   "outputs": [],
   "source": [
    "rez_mask = fn.get_rez_mask()"
   ]
  },
  {
   "cell_type": "markdown",
   "id": "13b379b2-f471-448f-bfe0-1d2216cebd32",
   "metadata": {},
   "source": [
    "# Load energy source and demand data"
   ]
  },
  {
   "cell_type": "markdown",
   "id": "1570291c-1973-4f0c-b527-19d791880e72",
   "metadata": {},
   "source": [
    "Sources: daily wind, daily solar and monthly runoff"
   ]
  },
  {
   "cell_type": "code",
   "execution_count": 12,
   "id": "8a52f5dc-49a6-4a91-a0ff-edcef96f59ba",
   "metadata": {},
   "outputs": [],
   "source": [
    "rez_100w = xr.open_zarr(\n",
    "    '/g/data/w42/dr6273/work/projects/Aus_energy/data/100w_era5_daily_1400UTC_sfc_'+str(years[0])+'-'+str(years[-1])+'_REZ_region_mean.zarr',\n",
    "    consolidated=True\n",
    ")['100w']#.compute()"
   ]
  },
  {
   "cell_type": "code",
   "execution_count": 13,
   "id": "00288098-987b-4291-85c2-523e3d9383a5",
   "metadata": {},
   "outputs": [],
   "source": [
    "rez_mssrd = xr.open_zarr(\n",
    "    '/g/data/w42/dr6273/work/projects/Aus_energy/data/mssrd_era5_daily_1400UTC_sfc_'+str(years[0])+'-'+str(years[-1])+'_REZ_region_mean.zarr',\n",
    "    consolidated=True\n",
    ")['mssrd']#.compute()"
   ]
  },
  {
   "cell_type": "code",
   "execution_count": 14,
   "id": "b2a9d71e-3be9-47d7-8422-2ea72a21033b",
   "metadata": {},
   "outputs": [],
   "source": [
    "rez_ro = xr.open_zarr(\n",
    "    '/g/data/w42/dr6273/work/projects/Aus_energy/data/ro_era5_monthly-averaged_sfc_'+str(years[0])+'-'+str(years[-1])+'_REZ_region_mean.zarr',\n",
    "    consolidated=True\n",
    ")['ro']#.compute()"
   ]
  },
  {
   "cell_type": "markdown",
   "id": "2b9ac26f-f29b-487d-8ac9-df5ebe088038",
   "metadata": {},
   "source": [
    "Annual runoff"
   ]
  },
  {
   "cell_type": "code",
   "execution_count": 15,
   "id": "c2535eea-5d8f-4aac-a3b1-a283cffaccf4",
   "metadata": {},
   "outputs": [],
   "source": [
    "rez_ro_ann = rez_ro.resample(time='1YS').sum()"
   ]
  },
  {
   "cell_type": "markdown",
   "id": "2ff280f3-9800-4757-be9f-39b178cfb7a7",
   "metadata": {},
   "source": [
    "Thresholds for event definitions"
   ]
  },
  {
   "cell_type": "code",
   "execution_count": 16,
   "id": "c149941f-53b9-49dd-a492-b3c0a121a7eb",
   "metadata": {},
   "outputs": [],
   "source": [
    "thresh_100w = rez_100w.chunk({'time': -1}).quantile(0.25, ['time', 'region']) #4 # Close to all region-time 25th percentile of 4.19\n",
    "thresh_mssrd = rez_mssrd.chunk({'time': -1}).quantile(0.25, ['time', 'region']) #170 # All region-time 25th percentile is 132.7\n",
    "thresh_ro = rez_ro_ann.chunk({'time': -1}).quantile(0.25, ['time'])\n",
    "thresh_t_cool = 15\n",
    "thresh_t_warm = 21"
   ]
  },
  {
   "cell_type": "markdown",
   "id": "fd64ac77-39b9-48aa-a87d-03acfcb5a27d",
   "metadata": {},
   "source": [
    "### Events"
   ]
  },
  {
   "cell_type": "code",
   "execution_count": 17,
   "id": "0a6a78bb-85d9-48d4-817a-ce144c70e4a2",
   "metadata": {},
   "outputs": [],
   "source": [
    "events_100w = fn.get_events(rez_100w, thresh_100w, tail='lower')"
   ]
  },
  {
   "cell_type": "code",
   "execution_count": 18,
   "id": "8b3334ae-bdb8-4144-9d8d-58f26a9c244c",
   "metadata": {},
   "outputs": [],
   "source": [
    "events_mssrd = fn.get_events(rez_mssrd, thresh_mssrd, tail='lower')"
   ]
  },
  {
   "cell_type": "code",
   "execution_count": 19,
   "id": "8b4d48a9-dfb0-4276-a093-b93c87969747",
   "metadata": {},
   "outputs": [],
   "source": [
    "events_100w_mssrd = fn.get_compound_events(rez_100w, rez_mssrd, thresh_100w, thresh_mssrd)"
   ]
  },
  {
   "cell_type": "markdown",
   "id": "82539a77-305a-48cc-94f3-d0d69dc22c71",
   "metadata": {},
   "source": [
    "### Daily events over all regions"
   ]
  },
  {
   "cell_type": "code",
   "execution_count": 20,
   "id": "3a363e45-613c-4b4c-adff-fd011bf475b1",
   "metadata": {},
   "outputs": [],
   "source": [
    "simul_100w = fn.concurrent_lulls(events_100w, [1, 3, 5, 7], rez_mask)\n",
    "simul_mssrd = fn.concurrent_lulls(events_mssrd, [2, 3, 6, 7], rez_mask)\n",
    "simul_100w_mssrd = fn.concurrent_lulls(events_100w_mssrd, [3, 7], rez_mask)"
   ]
  },
  {
   "cell_type": "markdown",
   "id": "eb35d52b-63de-4eca-aca8-852bc9a8b99a",
   "metadata": {},
   "source": [
    "### Seasonal events over all regions"
   ]
  },
  {
   "cell_type": "code",
   "execution_count": 21,
   "id": "411c3b5a-b49b-4873-b767-5c95200cb774",
   "metadata": {},
   "outputs": [],
   "source": [
    "season_100w = fn.seasonal_mean(simul_100w).compute()\n",
    "season_mssrd = fn.seasonal_mean(simul_mssrd).compute()\n",
    "season_100w_mssrd = fn.seasonal_mean(simul_100w_mssrd).compute()"
   ]
  },
  {
   "cell_type": "markdown",
   "id": "a5fca088-b5be-42ed-8d17-e999e57019d6",
   "metadata": {},
   "source": [
    "# Load diagnostics and climate mode indices\n",
    "And then get seasonal averages"
   ]
  },
  {
   "cell_type": "markdown",
   "id": "9c281057-d330-44ca-a488-25de908ac9c3",
   "metadata": {},
   "source": [
    "### Monthly diagnostics"
   ]
  },
  {
   "cell_type": "markdown",
   "id": "1fe9f8d6-e408-4892-8f5e-ce4a8f5837fe",
   "metadata": {},
   "source": [
    "HadISST SST anomalies"
   ]
  },
  {
   "cell_type": "code",
   "execution_count": 22,
   "id": "699b0499-e418-4839-9670-42a1b048689d",
   "metadata": {},
   "outputs": [],
   "source": [
    "sst_fp = data_fp + 'hadisst/sst/sst_anom_hadisst_moda_sfc_'+str(years[0])+'-'+str(years[-1])+'.zarr'\n",
    "sst_anoms = xr.open_zarr(sst_fp, consolidated=True)\n",
    "sst_anoms = fn.seasonal_mean(sst_anoms)"
   ]
  },
  {
   "cell_type": "markdown",
   "id": "dbae59c1-e45f-4b8d-af89-346635c8f9d5",
   "metadata": {},
   "source": [
    "ERA5 MSLP anomalies"
   ]
  },
  {
   "cell_type": "code",
   "execution_count": 23,
   "id": "1a5090e2-29b9-45bf-aa5e-dabf8502627d",
   "metadata": {},
   "outputs": [],
   "source": [
    "mslp_fp = data_fp + 'era5/mslp/mslp_anom_era5_moda_sfc_'+str(years[0])+'-'+str(years[-1])+'.zarr'\n",
    "mslp_anoms = xr.open_zarr(mslp_fp, consolidated=True)\n",
    "mslp_anoms = fn.seasonal_mean(mslp_anoms)"
   ]
  },
  {
   "cell_type": "markdown",
   "id": "9061e7c5-7e9a-4a14-907c-e6d4c8bd5469",
   "metadata": {},
   "source": [
    "### Climate mode indices"
   ]
  },
  {
   "cell_type": "markdown",
   "id": "41dfa287-59ec-4bdc-839d-f71cead83c63",
   "metadata": {},
   "source": [
    "Nino3.4"
   ]
  },
  {
   "cell_type": "code",
   "execution_count": 24,
   "id": "89b25b6b-97c7-4de7-bed9-5bb53f06211c",
   "metadata": {},
   "outputs": [],
   "source": [
    "nino34_fp = data_fp + 'hadisst/climate_modes/hadisst_nino34_'+str(years[0])+'-'+str(years[-1])+'.zarr'\n",
    "nino34 = xr.open_zarr(nino34_fp, consolidated=True)\n",
    "nino34 = fn.seasonal_mean(nino34)"
   ]
  },
  {
   "cell_type": "markdown",
   "id": "b0e74e93-9e74-47cd-917f-74159b047782",
   "metadata": {},
   "source": [
    "DMI"
   ]
  },
  {
   "cell_type": "code",
   "execution_count": 25,
   "id": "df5a4011-782f-4876-b66d-9a4ff6a8f39d",
   "metadata": {},
   "outputs": [],
   "source": [
    "dmi_fp = data_fp + 'hadisst/climate_modes/hadisst_dmi_'+str(years[0])+'-'+str(years[-1])+'.zarr'\n",
    "dmi = xr.open_zarr(dmi_fp, consolidated=True)\n",
    "dmi = fn.seasonal_mean(dmi)"
   ]
  },
  {
   "cell_type": "markdown",
   "id": "993861c6-6512-4937-991d-3ea697c63f54",
   "metadata": {},
   "source": [
    "SAM"
   ]
  },
  {
   "cell_type": "code",
   "execution_count": 26,
   "id": "ecf6ec59-231e-4335-94dc-79ea49152b5f",
   "metadata": {},
   "outputs": [],
   "source": [
    "sam_fp = data_fp + 'era5/climate_modes/era5_sam_'+str(years[0])+'-'+str(years[-1])+'.zarr'\n",
    "sam = xr.open_zarr(sam_fp, consolidated=True)\n",
    "sam = fn.seasonal_mean(sam)"
   ]
  },
  {
   "cell_type": "markdown",
   "id": "5d0b3fd6-e8ab-43d7-9a52-0a7fc65edb05",
   "metadata": {},
   "source": [
    "# Monthly diagnostics on spatially extensive wind/solar/compound drought years"
   ]
  },
  {
   "cell_type": "markdown",
   "id": "56156ebe-a018-4d4a-8d56-9d8cba612bc3",
   "metadata": {},
   "source": [
    "Figure ideas:\n",
    "1. PDFs of climate mode indices, with spatially compounding months/seasons marked (crosses, lines) or the composite mean marked.\n",
    "2. Composite maps of SST and MSLP (plus some other variables eventually?) over spatially compounding months/seasons. Could also show which regions have events here - maybe counts/percentage of times each region is counted.\n",
    "\n",
    "Should be done separately for each season."
   ]
  },
  {
   "cell_type": "code",
   "execution_count": 27,
   "id": "8cd1e28d-4d9d-4577-b013-18e2de5d5cb1",
   "metadata": {},
   "outputs": [],
   "source": [
    "def get_spatial_events(da, season, q, time_name='time'):\n",
    "    \"\"\"\n",
    "    Subsample the time steps which are spatially compounding,\n",
    "    defined as when the number of regions experiencing an event\n",
    "    exceeds a quantile threshold (q). Can be done by season.\n",
    "    \"\"\"\n",
    "    months = fn.get_seasons()[season] # months in this season\n",
    "    subset_da = fn.month_subset(da, months, time_name) # select data in this season\n",
    "    thresh = subset_da.quantile(q, time_name) # top q extensive events\n",
    "    events = subset_da.where(subset_da > thresh)\n",
    "    years = events.dropna(time_name)[time_name].dt.year.values\n",
    "    return years, events"
   ]
  },
  {
   "cell_type": "code",
   "execution_count": 28,
   "id": "c38c9a83-af2c-4c2d-a7f7-7a1c382d2f43",
   "metadata": {},
   "outputs": [],
   "source": [
    "def get_composite_data(event_da, diag_da, season, q, time_name='time'):\n",
    "    \"\"\"\n",
    "    Obtain the diagnostic variable array to be composited over event years.\n",
    "    \"\"\"\n",
    "    years, events = get_spatial_events(event_da, season, q, time_name)\n",
    "    diag = fn.month_subset(diag_da, fn.get_seasons()[season])\n",
    "    return years, diag.where(events.notnull()).mean(time_name)"
   ]
  },
  {
   "cell_type": "code",
   "execution_count": 54,
   "id": "c12942fa-b503-4bfd-b4d9-867b7076cded",
   "metadata": {},
   "outputs": [],
   "source": [
    "def plot_sst_mslp(ax, sst_da, mslp_da, years):\n",
    "    \"\"\"\n",
    "    Plot SST shading and MSLP contours on an axis.\n",
    "    \"\"\"\n",
    "    m = 5000\n",
    "    mslp_levels = np.arange(-m, m+1, 100)\n",
    "    mslp_levels = [i for i in mslp_levels if i != 0]\n",
    "    \n",
    "    ax.coastlines(linewidths=0.1)\n",
    "    \n",
    "    # p = p_sst.plot(\n",
    "    #     ax=ax,\n",
    "    #     transform=ccrs.PlateCarree(),\n",
    "    #     vmin=-1.5,\n",
    "    #     vmax=1.5,\n",
    "    #     cmap='RdBu_r',\n",
    "    #     # cbar_kwargs={\n",
    "    #     #     'location': 'bottom',\n",
    "    #     # },\n",
    "    #     add_colorbar=False\n",
    "    # )\n",
    "    # p_mslp.plot.contour(\n",
    "    #     ax=ax,\n",
    "    #     transform=ccrs.PlateCarree(),\n",
    "    #     levels=mslp_levels,\n",
    "    #     colors='k',\n",
    "    #     linewidths=0.4\n",
    "    # )\n",
    "    \n",
    "    format_years = [str(i) for i in years]\n",
    "    title = ', '.join(format_years)\n",
    "    ax.set_title(title, fontsize=plt_params['font.size'] / 1.7, pad=0)\n",
    "    \n",
    "    return p"
   ]
  },
  {
   "cell_type": "code",
   "execution_count": 55,
   "id": "3e47ac03-18c9-4a10-8099-abb72da7c332",
   "metadata": {},
   "outputs": [],
   "source": [
    "season_dict = fn.get_seasons()"
   ]
  },
  {
   "cell_type": "code",
   "execution_count": 56,
   "id": "f4c6a3bc-61bf-488d-a104-9287d2169d3a",
   "metadata": {},
   "outputs": [],
   "source": [
    "thresh_spatial = 0.9"
   ]
  },
  {
   "cell_type": "code",
   "execution_count": 61,
   "id": "9a62faac-30ba-4173-af4e-38b280e542d2",
   "metadata": {},
   "outputs": [
    {
     "data": {
      "image/png": "[encoded data removed]",
      "text/plain": [
       "<Figure size 960x720 with 12 Axes>"
      ]
     },
     "metadata": {},
     "output_type": "display_data"
    }
   ],
   "source": [
    "with plt.rc_context(plt_params):\n",
    "    fig = plt.figure(dpi=150)\n",
    "    \n",
    "    axes = []\n",
    "    for i in range(12):\n",
    "        axes.append(fig.add_subplot(4, 3, i+1, projection=ccrs.PlateCarree(central_longitude=180)))\n",
    "    \n",
    "    i = 0\n",
    "    for season in list(season_dict.keys())[1:]:\n",
    "        for var in [season_100w, season_mssrd, season_100w_mssrd]:\n",
    "            years, p_sst = get_composite_data(\n",
    "                var,\n",
    "                sst_anoms['sst_anom'],\n",
    "                season,\n",
    "                thresh_spatial\n",
    "            )\n",
    "\n",
    "            _, p_mslp = get_composite_data(\n",
    "                var,\n",
    "                mslp_anoms['mslp_anom'],\n",
    "                season,\n",
    "                thresh_spatial\n",
    "            )\n",
    "\n",
    "            ax = axes[i]\n",
    "            p = plot_sst_mslp(ax, p_sst, p_mslp, years)\n",
    "            \n",
    "            i += 1\n",
    "                        \n",
    "    plt.subplots_adjust(hspace=0.1, wspace=0.05)\n",
    "    \n",
    "    axes[0].text(0.5, 1.25, 'Wind', ha='center', transform=axes[0].transAxes)\n",
    "    axes[1].text(0.5, 1.25, 'Solar', ha='center', transform=axes[1].transAxes)\n",
    "    axes[2].text(0.5, 1.25, 'Compound', ha='center', transform=axes[2].transAxes)\n",
    "    \n",
    "    axes[0].text(-0.1, 0.5, 'Winter', rotation=90, va='center', transform=axes[0].transAxes)\n",
    "    axes[3].text(-0.1, 0.5, 'Spring', rotation=90, va='center', transform=axes[3].transAxes)\n",
    "    axes[6].text(-0.1, 0.5, 'Summer', rotation=90, va='center', transform=axes[6].transAxes)\n",
    "    axes[9].text(-0.1, 0.5, 'Autumn', rotation=90, va='center', transform=axes[9].transAxes)"
   ]
  },
  {
   "cell_type": "markdown",
   "id": "48959f64-80cb-4b1c-bbc2-56cd7f3399db",
   "metadata": {},
   "source": [
    "# Close cluster"
   ]
  },
  {
   "cell_type": "code",
   "execution_count": 62,
   "id": "9a4e0e4b-0e27-4ac4-985a-2f3304190316",
   "metadata": {},
   "outputs": [],
   "source": [
    "client.close()\n",
    "cluster.close()"
   ]
  },
  {
   "cell_type": "code",
   "execution_count": null,
   "id": "73ec1d19-4f56-47b1-aba7-1c7dea686df8",
   "metadata": {},
   "outputs": [],
   "source": []
  }
 ],
 "metadata": {
  "kernelspec": {
   "display_name": "Python (pangeo)",
   "language": "python",
   "name": "pangeo"
  },
  "language_info": {
   "codemirror_mode": {
    "name": "ipython",
    "version": 3
   },
   "file_extension": ".py",
   "mimetype": "text/x-python",
   "name": "python",
   "nbconvert_exporter": "python",
   "pygments_lexer": "ipython3",
   "version": "3.10.8"
  }
 },
 "nbformat": 4,
 "nbformat_minor": 5
}
