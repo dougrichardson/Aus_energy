{
 "cells": [
  {
   "cell_type": "markdown",
   "id": "38130fe6-9d8c-4edc-8b37-2abe0782b8f7",
   "metadata": {},
   "source": [
    "# Prepare atmospheric and ocean data"
   ]
  },
  {
   "cell_type": "code",
   "execution_count": 8,
   "id": "1c233f26-1fbe-4e0a-91cc-19323aa33a71",
   "metadata": {},
   "outputs": [],
   "source": [
    "from dask.distributed import Client,LocalCluster\n",
    "from dask_jobqueue import PBSCluster"
   ]
  },
  {
   "cell_type": "code",
   "execution_count": 9,
   "id": "e25ead5e-0743-4b11-ba46-22d7eccdbb8c",
   "metadata": {},
   "outputs": [],
   "source": [
    "# One node on Gadi has 48 cores - try and use up a full node before going to multiple nodes (jobs)\n",
    "\n",
    "walltime = '00:30:00'\n",
    "cores = 4\n",
    "memory = str(4 * cores) + 'GB'\n",
    "\n",
    "cluster = PBSCluster(walltime=str(walltime), cores=cores, memory=str(memory), processes=cores,\n",
    "                     job_extra_directives=['-q normal',\n",
    "                                           '-P w42',\n",
    "                                           '-l ncpus='+str(cores),\n",
    "                                           '-l mem='+str(memory),\n",
    "                                           '-l storage=gdata/w42+gdata/rt52'],\n",
    "                     local_directory='$TMPDIR',\n",
    "                     job_directives_skip=[\"select\"])\n",
    "                     # python=os.environ[\"DASK_PYTHON\"])"
   ]
  },
  {
   "cell_type": "code",
   "execution_count": 10,
   "id": "aef43f7a-0ce1-463e-a55e-b7ef3ac8d8f3",
   "metadata": {},
   "outputs": [],
   "source": [
    "cluster.scale(jobs=1)\n",
    "client = Client(cluster)"
   ]
  },
  {
   "cell_type": "code",
   "execution_count": 11,
   "id": "991e01c8-eeeb-48c3-b146-6b679ffc9857",
   "metadata": {},
   "outputs": [
    {
     "data": {
      "text/html": [
       "<div>\n",
       "    <div style=\"width: 24px; height: 24px; background-color: #e1e1e1; border: 3px solid #9D9D9D; border-radius: 5px; position: absolute;\"> </div>\n",
       "    <div style=\"margin-left: 48px;\">\n",
       "        <h3 style=\"margin-bottom: 0px;\">Client</h3>\n",
       "        <p style=\"color: #9D9D9D; margin-bottom: 0px;\">Client-11ca7e91-b3df-11ed-b72c-00000082fe80</p>\n",
       "        <table style=\"width: 100%; text-align: left;\">\n",
       "\n",
       "        <tr>\n",
       "        \n",
       "            <td style=\"text-align: left;\"><strong>Connection method:</strong> Cluster object</td>\n",
       "            <td style=\"text-align: left;\"><strong>Cluster type:</strong> dask_jobqueue.PBSCluster</td>\n",
       "        \n",
       "        </tr>\n",
       "\n",
       "        \n",
       "            <tr>\n",
       "                <td style=\"text-align: left;\">\n",
       "                    <strong>Dashboard: </strong> <a href=\"http://10.6.65.70:8787/status\" target=\"_blank\">http://10.6.65.70:8787/status</a>\n",
       "                </td>\n",
       "                <td style=\"text-align: left;\"></td>\n",
       "            </tr>\n",
       "        \n",
       "\n",
       "        </table>\n",
       "\n",
       "        \n",
       "            <button style=\"margin-bottom: 12px;\" data-commandlinker-command=\"dask:populate-and-launch-layout\" data-commandlinker-args='{\"url\": \"http://10.6.65.70:8787/status\" }'>\n",
       "                Launch dashboard in JupyterLab\n",
       "            </button>\n",
       "        \n",
       "\n",
       "        \n",
       "            <details>\n",
       "            <summary style=\"margin-bottom: 20px;\"><h3 style=\"display: inline;\">Cluster Info</h3></summary>\n",
       "            <div class=\"jp-RenderedHTMLCommon jp-RenderedHTML jp-mod-trusted jp-OutputArea-output\">\n",
       "    <div style=\"width: 24px; height: 24px; background-color: #e1e1e1; border: 3px solid #9D9D9D; border-radius: 5px; position: absolute;\">\n",
       "    </div>\n",
       "    <div style=\"margin-left: 48px;\">\n",
       "        <h3 style=\"margin-bottom: 0px; margin-top: 0px;\">PBSCluster</h3>\n",
       "        <p style=\"color: #9D9D9D; margin-bottom: 0px;\">71415e20</p>\n",
       "        <table style=\"width: 100%; text-align: left;\">\n",
       "            <tr>\n",
       "                <td style=\"text-align: left;\">\n",
       "                    <strong>Dashboard:</strong> <a href=\"http://10.6.65.70:8787/status\" target=\"_blank\">http://10.6.65.70:8787/status</a>\n",
       "                </td>\n",
       "                <td style=\"text-align: left;\">\n",
       "                    <strong>Workers:</strong> 0\n",
       "                </td>\n",
       "            </tr>\n",
       "            <tr>\n",
       "                <td style=\"text-align: left;\">\n",
       "                    <strong>Total threads:</strong> 0\n",
       "                </td>\n",
       "                <td style=\"text-align: left;\">\n",
       "                    <strong>Total memory:</strong> 0 B\n",
       "                </td>\n",
       "            </tr>\n",
       "            \n",
       "        </table>\n",
       "\n",
       "        <details>\n",
       "            <summary style=\"margin-bottom: 20px;\">\n",
       "                <h3 style=\"display: inline;\">Scheduler Info</h3>\n",
       "            </summary>\n",
       "\n",
       "            <div style=\"\">\n",
       "    <div>\n",
       "        <div style=\"width: 24px; height: 24px; background-color: #FFF7E5; border: 3px solid #FF6132; border-radius: 5px; position: absolute;\"> </div>\n",
       "        <div style=\"margin-left: 48px;\">\n",
       "            <h3 style=\"margin-bottom: 0px;\">Scheduler</h3>\n",
       "            <p style=\"color: #9D9D9D; margin-bottom: 0px;\">Scheduler-ca6659f6-0717-439e-9e3d-602ec8db1503</p>\n",
       "            <table style=\"width: 100%; text-align: left;\">\n",
       "                <tr>\n",
       "                    <td style=\"text-align: left;\">\n",
       "                        <strong>Comm:</strong> tcp://10.6.65.70:42317\n",
       "                    </td>\n",
       "                    <td style=\"text-align: left;\">\n",
       "                        <strong>Workers:</strong> 0\n",
       "                    </td>\n",
       "                </tr>\n",
       "                <tr>\n",
       "                    <td style=\"text-align: left;\">\n",
       "                        <strong>Dashboard:</strong> <a href=\"http://10.6.65.70:8787/status\" target=\"_blank\">http://10.6.65.70:8787/status</a>\n",
       "                    </td>\n",
       "                    <td style=\"text-align: left;\">\n",
       "                        <strong>Total threads:</strong> 0\n",
       "                    </td>\n",
       "                </tr>\n",
       "                <tr>\n",
       "                    <td style=\"text-align: left;\">\n",
       "                        <strong>Started:</strong> Just now\n",
       "                    </td>\n",
       "                    <td style=\"text-align: left;\">\n",
       "                        <strong>Total memory:</strong> 0 B\n",
       "                    </td>\n",
       "                </tr>\n",
       "            </table>\n",
       "        </div>\n",
       "    </div>\n",
       "\n",
       "    <details style=\"margin-left: 48px;\">\n",
       "        <summary style=\"margin-bottom: 20px;\">\n",
       "            <h3 style=\"display: inline;\">Workers</h3>\n",
       "        </summary>\n",
       "\n",
       "        \n",
       "\n",
       "    </details>\n",
       "</div>\n",
       "\n",
       "        </details>\n",
       "    </div>\n",
       "</div>\n",
       "            </details>\n",
       "        \n",
       "\n",
       "    </div>\n",
       "</div>"
      ],
      "text/plain": [
       "<Client: 'tcp://10.6.65.70:42317' processes=0 threads=0, memory=0 B>"
      ]
     },
     "execution_count": 11,
     "metadata": {},
     "output_type": "execute_result"
    }
   ],
   "source": [
    "client"
   ]
  },
  {
   "cell_type": "code",
   "execution_count": 5,
   "id": "e3bcd4ca-70e8-4966-8eb0-b2dbe1ef9a28",
   "metadata": {},
   "outputs": [],
   "source": [
    "# client.close()\n",
    "# cluster.close()"
   ]
  },
  {
   "cell_type": "code",
   "execution_count": 6,
   "id": "e604e483-1fe0-431e-8d27-968918aac77c",
   "metadata": {},
   "outputs": [],
   "source": [
    "# %load_ext autoreload\n",
    "# %autoreload 2"
   ]
  },
  {
   "cell_type": "code",
   "execution_count": 7,
   "id": "9a70c673-33e3-4033-9af2-af6a3391dc76",
   "metadata": {},
   "outputs": [],
   "source": [
    "# %reload_ext autoreload\n",
    "# %autoreload 2"
   ]
  },
  {
   "cell_type": "code",
   "execution_count": 1,
   "id": "85975a6c-38e4-401e-a515-430e23698f03",
   "metadata": {},
   "outputs": [],
   "source": [
    "import xarray as xr\n",
    "import pandas as pd\n",
    "\n",
    "# import numpy as np\n",
    "# from xhistogram.xarray import histogram\n",
    "\n",
    "# %matplotlib inline\n",
    "# import matplotlib\n",
    "# import matplotlib.pyplot as plt\n",
    "# from mpl_toolkits.axes_grid1.inset_locator import inset_axes\n",
    "\n",
    "# import cartopy.crs as ccrs\n",
    "# import cartopy\n",
    "# cartopy.config['pre_existing_data_dir'] = '/g/data/w42/dr6273/work/data/cartopy-data/'\n",
    "# cartopy.config['data_dir'] = '/g/data/w42/dr6273/work/data/cartopy-data/'"
   ]
  },
  {
   "cell_type": "code",
   "execution_count": 2,
   "id": "b63d4d6d-1207-4137-ab33-7b5046b96ada",
   "metadata": {},
   "outputs": [],
   "source": [
    "# import functions as fn\n",
    "\n",
    "# plt_params = fn.get_plot_params()\n",
    "# prop_cycle = plt.rcParams['axes.prop_cycle']\n",
    "# colors = prop_cycle.by_key()['color']"
   ]
  },
  {
   "cell_type": "code",
   "execution_count": 8,
   "id": "94bd3c58-ac6e-46b7-941e-b22b89260c44",
   "metadata": {},
   "outputs": [],
   "source": [
    "data_fp = '/g/data/w42/dr6273/work/data/'\n",
    "years = range(1959, 2021)"
   ]
  },
  {
   "cell_type": "markdown",
   "id": "bcb0e12e-ce17-45e8-95e2-af5465c285f5",
   "metadata": {},
   "source": [
    "# SST data"
   ]
  },
  {
   "cell_type": "code",
   "execution_count": 13,
   "id": "a3a4cc8a-c7cd-46a2-927a-9fb1ec4cef97",
   "metadata": {},
   "outputs": [
    {
     "name": "stdout",
     "output_type": "stream",
     "text": [
      "/g/data/w42/dr6273/work/data/hadisst/sst/sst_anom_hadisst_moda_sfc_1959-2020.zarr\n"
     ]
    }
   ],
   "source": [
    "dataset = 'hadisst'\n",
    "sst_fp = data_fp + dataset + '/sst/sst_anom_'+dataset+'_moda_sfc_'+str(years[0])+'-'+str(years[-1])+'.zarr'\n",
    "print(sst_fp)"
   ]
  },
  {
   "cell_type": "code",
   "execution_count": 14,
   "id": "ef7c4eec-15a5-4a67-9443-ef83380ba058",
   "metadata": {},
   "outputs": [],
   "source": [
    "load_SST_anoms = True"
   ]
  },
  {
   "cell_type": "code",
   "execution_count": 15,
   "id": "6f6fb264-ea89-4a16-8d74-64699d71d23e",
   "metadata": {},
   "outputs": [],
   "source": [
    "if load_SST_anoms:\n",
    "    sst_anoms = xr.open_zarr(sst_fp, consolidated=True)\n",
    "else:\n",
    "    if dataset == 'era5':\n",
    "        era_root_path = '/g/data/rt52/era5/single-levels/monthly-averaged/'\n",
    "        sst = fn.open_era_data(root_path=era_root_path,\n",
    "                            variable='sst',\n",
    "                            years=years)\n",
    "    else:\n",
    "        sst = xr.open_zarr('/g/data/xv83/reanalyses/HadISST/ocean_month.zarr', consolidated=True)\n",
    "        sst = sst.sel(time=slice(str(years[0]), str(years[-1])))\n",
    "        sst['time'] = pd.date_range(str(years[0]), str(years[-1])+'-12-01', freq='1MS')\n",
    "        \n",
    "    sst = sst.rename({'latitude': 'lat',\n",
    "                      'longitude': 'lon'})\n",
    "    sst = sst['sst']\n",
    "    sst = sst.assign_attrs({'short_name': 'sst'})\n",
    "    \n",
    "    sst = sst.chunk({'time': 12,\n",
    "                     'lat': -1,\n",
    "                     'lon': -1})\n",
    "    \n",
    "    sst_anoms = sst.groupby('time.month').apply(lambda x: x - x.mean('time'))\n",
    "    \n",
    "    # write attrs\n",
    "    sst_anoms = sst_anoms.assign_attrs({'long_name': 'Sea-surface temperature',\n",
    "                                          'short_name': 'sst',\n",
    "                                          'units': 'K'})\n",
    "    \n",
    "    sst_anoms = sst_anoms.to_dataset(name='sst_anom')\n",
    "    sst_anoms_encoding = {'sst_anom': {'dtype': 'float32'}}\n",
    "    sst_anoms.to_zarr(\n",
    "        sst_fp,\n",
    "        mode='w',\n",
    "        consolidated=True,\n",
    "        encoding=sst_anoms_encoding\n",
    "    )"
   ]
  },
  {
   "cell_type": "code",
   "execution_count": null,
   "id": "049e920a-f65f-4ab6-b9d9-834fc4867b3a",
   "metadata": {},
   "outputs": [],
   "source": []
  }
 ],
 "metadata": {
  "kernelspec": {
   "display_name": "Python (pangeo)",
   "language": "python",
   "name": "pangeo"
  },
  "language_info": {
   "codemirror_mode": {
    "name": "ipython",
    "version": 3
   },
   "file_extension": ".py",
   "mimetype": "text/x-python",
   "name": "python",
   "nbconvert_exporter": "python",
   "pygments_lexer": "ipython3",
   "version": "3.10.8"
  }
 },
 "nbformat": 4,
 "nbformat_minor": 5
}
