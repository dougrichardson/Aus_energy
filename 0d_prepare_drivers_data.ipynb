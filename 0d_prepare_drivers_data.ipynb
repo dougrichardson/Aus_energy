{
 "cells": [
  {
   "cell_type": "markdown",
   "id": "38130fe6-9d8c-4edc-8b37-2abe0782b8f7",
   "metadata": {},
   "source": [
    "# Prepare atmospheric and ocean data"
   ]
  },
  {
   "cell_type": "code",
   "execution_count": 1,
   "id": "1c233f26-1fbe-4e0a-91cc-19323aa33a71",
   "metadata": {},
   "outputs": [],
   "source": [
    "from dask.distributed import Client,LocalCluster\n",
    "from dask_jobqueue import PBSCluster"
   ]
  },
  {
   "cell_type": "code",
   "execution_count": 2,
   "id": "e25ead5e-0743-4b11-ba46-22d7eccdbb8c",
   "metadata": {},
   "outputs": [],
   "source": [
    "# One node on Gadi has 48 cores - try and use up a full node before going to multiple nodes (jobs)\n",
    "\n",
    "walltime = '00:20:00'\n",
    "cores = 48\n",
    "memory = str(4 * cores) + 'GB'\n",
    "\n",
    "cluster = PBSCluster(walltime=str(walltime), cores=cores, memory=str(memory), processes=cores,\n",
    "                     job_extra_directives=['-q normal',\n",
    "                                           '-P w42',\n",
    "                                           '-l ncpus='+str(cores),\n",
    "                                           '-l mem='+str(memory),\n",
    "                                           '-l storage=gdata/w42+gdata/rt52+gdata/xv83'],\n",
    "                     local_directory='$TMPDIR',\n",
    "                     job_directives_skip=[\"select\"])\n",
    "                     # python=os.environ[\"DASK_PYTHON\"])"
   ]
  },
  {
   "cell_type": "code",
   "execution_count": 3,
   "id": "aef43f7a-0ce1-463e-a55e-b7ef3ac8d8f3",
   "metadata": {},
   "outputs": [],
   "source": [
    "cluster.scale(jobs=2)\n",
    "client = Client(cluster)"
   ]
  },
  {
   "cell_type": "code",
   "execution_count": 4,
   "id": "991e01c8-eeeb-48c3-b146-6b679ffc9857",
   "metadata": {},
   "outputs": [
    {
     "data": {
      "text/html": [
       "<div>\n",
       "    <div style=\"width: 24px; height: 24px; background-color: #e1e1e1; border: 3px solid #9D9D9D; border-radius: 5px; position: absolute;\"> </div>\n",
       "    <div style=\"margin-left: 48px;\">\n",
       "        <h3 style=\"margin-bottom: 0px;\">Client</h3>\n",
       "        <p style=\"color: #9D9D9D; margin-bottom: 0px;\">Client-4c25fb7e-bd74-11ed-a77e-000001a4fe80</p>\n",
       "        <table style=\"width: 100%; text-align: left;\">\n",
       "\n",
       "        <tr>\n",
       "        \n",
       "            <td style=\"text-align: left;\"><strong>Connection method:</strong> Cluster object</td>\n",
       "            <td style=\"text-align: left;\"><strong>Cluster type:</strong> dask_jobqueue.PBSCluster</td>\n",
       "        \n",
       "        </tr>\n",
       "\n",
       "        \n",
       "            <tr>\n",
       "                <td style=\"text-align: left;\">\n",
       "                    <strong>Dashboard: </strong> <a href=\"http://10.6.65.35:8787/status\" target=\"_blank\">http://10.6.65.35:8787/status</a>\n",
       "                </td>\n",
       "                <td style=\"text-align: left;\"></td>\n",
       "            </tr>\n",
       "        \n",
       "\n",
       "        </table>\n",
       "\n",
       "        \n",
       "            <button style=\"margin-bottom: 12px;\" data-commandlinker-command=\"dask:populate-and-launch-layout\" data-commandlinker-args='{\"url\": \"http://10.6.65.35:8787/status\" }'>\n",
       "                Launch dashboard in JupyterLab\n",
       "            </button>\n",
       "        \n",
       "\n",
       "        \n",
       "            <details>\n",
       "            <summary style=\"margin-bottom: 20px;\"><h3 style=\"display: inline;\">Cluster Info</h3></summary>\n",
       "            <div class=\"jp-RenderedHTMLCommon jp-RenderedHTML jp-mod-trusted jp-OutputArea-output\">\n",
       "    <div style=\"width: 24px; height: 24px; background-color: #e1e1e1; border: 3px solid #9D9D9D; border-radius: 5px; position: absolute;\">\n",
       "    </div>\n",
       "    <div style=\"margin-left: 48px;\">\n",
       "        <h3 style=\"margin-bottom: 0px; margin-top: 0px;\">PBSCluster</h3>\n",
       "        <p style=\"color: #9D9D9D; margin-bottom: 0px;\">0490a706</p>\n",
       "        <table style=\"width: 100%; text-align: left;\">\n",
       "            <tr>\n",
       "                <td style=\"text-align: left;\">\n",
       "                    <strong>Dashboard:</strong> <a href=\"http://10.6.65.35:8787/status\" target=\"_blank\">http://10.6.65.35:8787/status</a>\n",
       "                </td>\n",
       "                <td style=\"text-align: left;\">\n",
       "                    <strong>Workers:</strong> 0\n",
       "                </td>\n",
       "            </tr>\n",
       "            <tr>\n",
       "                <td style=\"text-align: left;\">\n",
       "                    <strong>Total threads:</strong> 0\n",
       "                </td>\n",
       "                <td style=\"text-align: left;\">\n",
       "                    <strong>Total memory:</strong> 0 B\n",
       "                </td>\n",
       "            </tr>\n",
       "            \n",
       "        </table>\n",
       "\n",
       "        <details>\n",
       "            <summary style=\"margin-bottom: 20px;\">\n",
       "                <h3 style=\"display: inline;\">Scheduler Info</h3>\n",
       "            </summary>\n",
       "\n",
       "            <div style=\"\">\n",
       "    <div>\n",
       "        <div style=\"width: 24px; height: 24px; background-color: #FFF7E5; border: 3px solid #FF6132; border-radius: 5px; position: absolute;\"> </div>\n",
       "        <div style=\"margin-left: 48px;\">\n",
       "            <h3 style=\"margin-bottom: 0px;\">Scheduler</h3>\n",
       "            <p style=\"color: #9D9D9D; margin-bottom: 0px;\">Scheduler-1dd64ad1-e198-4750-a7d9-219e6bb7b20e</p>\n",
       "            <table style=\"width: 100%; text-align: left;\">\n",
       "                <tr>\n",
       "                    <td style=\"text-align: left;\">\n",
       "                        <strong>Comm:</strong> tcp://10.6.65.35:39001\n",
       "                    </td>\n",
       "                    <td style=\"text-align: left;\">\n",
       "                        <strong>Workers:</strong> 0\n",
       "                    </td>\n",
       "                </tr>\n",
       "                <tr>\n",
       "                    <td style=\"text-align: left;\">\n",
       "                        <strong>Dashboard:</strong> <a href=\"http://10.6.65.35:8787/status\" target=\"_blank\">http://10.6.65.35:8787/status</a>\n",
       "                    </td>\n",
       "                    <td style=\"text-align: left;\">\n",
       "                        <strong>Total threads:</strong> 0\n",
       "                    </td>\n",
       "                </tr>\n",
       "                <tr>\n",
       "                    <td style=\"text-align: left;\">\n",
       "                        <strong>Started:</strong> Just now\n",
       "                    </td>\n",
       "                    <td style=\"text-align: left;\">\n",
       "                        <strong>Total memory:</strong> 0 B\n",
       "                    </td>\n",
       "                </tr>\n",
       "            </table>\n",
       "        </div>\n",
       "    </div>\n",
       "\n",
       "    <details style=\"margin-left: 48px;\">\n",
       "        <summary style=\"margin-bottom: 20px;\">\n",
       "            <h3 style=\"display: inline;\">Workers</h3>\n",
       "        </summary>\n",
       "\n",
       "        \n",
       "\n",
       "    </details>\n",
       "</div>\n",
       "\n",
       "        </details>\n",
       "    </div>\n",
       "</div>\n",
       "            </details>\n",
       "        \n",
       "\n",
       "    </div>\n",
       "</div>"
      ],
      "text/plain": [
       "<Client: 'tcp://10.6.65.35:39001' processes=0 threads=0, memory=0 B>"
      ]
     },
     "execution_count": 4,
     "metadata": {},
     "output_type": "execute_result"
    }
   ],
   "source": [
    "client"
   ]
  },
  {
   "cell_type": "code",
   "execution_count": 5,
   "id": "f27c7c27-9148-4f5b-a05d-4cd266fb9e73",
   "metadata": {},
   "outputs": [],
   "source": [
    "# %reload_ext autoreload\n",
    "# %autoreload 2"
   ]
  },
  {
   "cell_type": "code",
   "execution_count": 86,
   "id": "12360387-80a9-4874-9060-f0541e2fe91f",
   "metadata": {},
   "outputs": [],
   "source": [
    "client.close()\n",
    "cluster.close()"
   ]
  },
  {
   "cell_type": "code",
   "execution_count": 6,
   "id": "85975a6c-38e4-401e-a515-430e23698f03",
   "metadata": {},
   "outputs": [],
   "source": [
    "import xarray as xr\n",
    "import numpy as np\n",
    "import pandas as pd"
   ]
  },
  {
   "cell_type": "code",
   "execution_count": 7,
   "id": "8cfd113e-ac71-48b0-98fe-e04d75390608",
   "metadata": {},
   "outputs": [],
   "source": [
    "import functions as fn"
   ]
  },
  {
   "cell_type": "code",
   "execution_count": 7,
   "id": "e6852ea2-f6c0-4575-8e60-3accf788f1bf",
   "metadata": {},
   "outputs": [],
   "source": [
    "def anomalise_and_process(\n",
    "    load,\n",
    "    dataset,\n",
    "    filepath,\n",
    "    data_root_path,\n",
    "    var_name,\n",
    "    years,\n",
    "    subset_region,\n",
    "    subset_level,\n",
    "    preprocess_func,\n",
    "    mfdataset_chunks,\n",
    "    anom_freq,\n",
    "    new_var_name,\n",
    "    long_name,\n",
    "    units,\n",
    "    chunks\n",
    "):\n",
    "    \"\"\"\n",
    "    Load or process and write data.\n",
    "    \n",
    "    Data is processed by loading from the desired dataset a variable over a specified period.\n",
    "    The data are anomalised by removing the anom_freq means computed over the entire\n",
    "    period.\n",
    "    \n",
    "    load : Bool. Whether to load or process.\n",
    "    dataset : \"era5\" or \"hadisst\"\n",
    "    filepath : file to load saved data\n",
    "    data_root_path : path to raw era5 or hadisst data on Gadi.\n",
    "    var_name : string. name of era5 variable (ignored if other dataset).\n",
    "    years : range. Period to process.\n",
    "    subset_region : list. Region to subset over. See functions.open_era_data\n",
    "    subset_level : list. Pressure levels to select. See functions.open_era_data\n",
    "    preprocess_func : Preprocess using xr.open_mfdataset if desired. See functions.open_era_data\n",
    "    mfdataset_chunks : Chunks to use for preprocessing in xr.open_mfdataset. See functions.open_era_data\n",
    "    anom_freq : string. Over what frequency to anomalise, e.g. month or dayofyear\n",
    "    new_var_name : desired name of variable.\n",
    "    long_name : long name for xarray Dataset attributes.\n",
    "    units : units for xarray Dataset attributes.\n",
    "    chunks : dict. Specify chunks before writing to zarr.\n",
    "    \"\"\"\n",
    "    if load:\n",
    "        return xr.open_zarr(filepath, consolidated=True)\n",
    "    else:\n",
    "        print('Opening files...')\n",
    "        if dataset == 'era5':\n",
    "            ds = fn.open_era_data(\n",
    "                root_path=data_root_path,\n",
    "                variable=var_name,\n",
    "                years=years,\n",
    "                subset_region=subset_region,\n",
    "                subset_level=subset_level,\n",
    "                preprocess_func=preprocess_func,\n",
    "                mfdataset_chunks=mfdataset_chunks\n",
    "            )\n",
    "        elif dataset == 'hadisst':\n",
    "            ds = xr.open_zarr(data_root_path, consolidated=True)\n",
    "            ds = ds.sel(time=slice(str(years[0]), str(years[-1])))\n",
    "            ds['time'] = pd.date_range(str(years[0]), str(years[-1])+'-12-01', freq='1MS')\n",
    "            ds = xr.where(ds > -2, ds, np.nan)\n",
    "        else:\n",
    "            raise ValueError(\"Incorrect dataset.\")\n",
    "            \n",
    "        ds = ds.rename({\n",
    "            'latitude': 'lat',\n",
    "            'longitude': 'lon',\n",
    "            var_name: new_var_name\n",
    "        })\n",
    "        da = ds[new_var_name]\n",
    "        da = da.chunk(chunks)\n",
    "            \n",
    "        print('Anomalising...')\n",
    "        da_anoms = da.groupby('time.' + anom_freq).apply(lambda x: x - x.mean('time'))\n",
    "            \n",
    "        print('Attributes and writing...')\n",
    "        da_anoms = da_anoms.assign_attrs({\n",
    "            'long_name': long_name,\n",
    "            'short_name': new_var_name,\n",
    "            'units': units\n",
    "        })\n",
    "            \n",
    "        ds_anoms = da_anoms.to_dataset(name=new_var_name + '_anom')\n",
    "        encoding = {new_var_name + '_anom': {'dtype': 'float32'}}\n",
    "        ds_anoms.to_zarr(\n",
    "            filepath,\n",
    "            mode='w',\n",
    "            consolidated=True,\n",
    "            encoding=encoding\n",
    "        )\n",
    "        \n",
    "        return ds_anoms"
   ]
  },
  {
   "cell_type": "code",
   "execution_count": 8,
   "id": "94bd3c58-ac6e-46b7-941e-b22b89260c44",
   "metadata": {},
   "outputs": [],
   "source": [
    "data_fp = '/g/data/w42/dr6273/work/data/'\n",
    "years = range(1959, 2021)"
   ]
  },
  {
   "cell_type": "markdown",
   "id": "aaa293ee-5eb1-4402-8f31-c36025c3d9db",
   "metadata": {},
   "source": [
    "# Daily data on extended Australia region"
   ]
  },
  {
   "cell_type": "code",
   "execution_count": 9,
   "id": "64ceb0c6-7c01-4aa3-9d75-d54fda53c864",
   "metadata": {},
   "outputs": [],
   "source": [
    "extended_aus = [100, 180, 10, -60]"
   ]
  },
  {
   "cell_type": "markdown",
   "id": "5e470f65-d86e-4c84-b5c7-913a180d6a6a",
   "metadata": {},
   "source": [
    "### Note:\n",
    "\n",
    "I couldn't process hourly data to daily using the function above.\n",
    "So, try loading hourly data beforehand, using preprocess to select subregion, level and calculate averages.\n",
    "Write these daily data to file, then load using this function to anomalise as before."
   ]
  },
  {
   "cell_type": "code",
   "execution_count": 10,
   "id": "9b1c86d8-6df2-42c0-94eb-181729c398c2",
   "metadata": {},
   "outputs": [],
   "source": [
    "import os"
   ]
  },
  {
   "cell_type": "code",
   "execution_count": 11,
   "id": "678b8b8c-5008-46d8-ba35-558c433ea5c2",
   "metadata": {},
   "outputs": [],
   "source": [
    "def get_files(file_path, var, years):\n",
    "    \"\"\"\n",
    "    Get list of files\n",
    "    \"\"\"\n",
    "    fp_list = []\n",
    "    for year in years:\n",
    "        fp_dir = file_path+var+'/'+str(year)+'/'\n",
    "        for fp in sorted(os.listdir(fp_dir)):\n",
    "            fp_list.append(fp_dir+fp)\n",
    "    return fp_list"
   ]
  },
  {
   "cell_type": "code",
   "execution_count": 12,
   "id": "ef396daa-af42-460c-9a0a-3922cc552440",
   "metadata": {},
   "outputs": [],
   "source": [
    "def _daily_mean_1400(ds):\n",
    "    \"\"\"\n",
    "    Daily average of ds. Computed for 24 hour periods\n",
    "    starting at 1400UTC (so an eastern Aus day, roughly).\n",
    "    Currently hard-coded as its easier with open_mfdataset preprocess/\n",
    "    \"\"\"\n",
    "    ds_24 = ds.rolling(time=24).mean()\n",
    "    ds_daily = ds_24.isel(time=ds_24.time.dt.hour == 14)\n",
    "    return ds_daily#.chunk({'time': -1})"
   ]
  },
  {
   "cell_type": "code",
   "execution_count": 13,
   "id": "cc31b591-325a-4a9b-afb9-7beb0be33fb1",
   "metadata": {},
   "outputs": [],
   "source": [
    "dataset = 'era5'\n",
    "levels = [500]"
   ]
  },
  {
   "cell_type": "code",
   "execution_count": 14,
   "id": "3d2eebac-f798-4c6d-9426-70fb2ceda756",
   "metadata": {},
   "outputs": [],
   "source": [
    "files = get_files('/g/data/rt52/era5/pressure-levels/reanalysis/', 'z', years)"
   ]
  },
  {
   "cell_type": "code",
   "execution_count": 19,
   "id": "285e51d4-004c-41bc-b943-0faaf707f204",
   "metadata": {},
   "outputs": [],
   "source": [
    "# Using preprocess in open_mfdataset to select desired levels improves performance\n",
    "#  versus doing a .sel() afterwards\n",
    "def preprocess(ds):\n",
    "    \"\"\"\n",
    "    Select desired levels and subregion\n",
    "    \"\"\"\n",
    "    ds = ds.rename({\n",
    "        'longitude': 'lon',\n",
    "        'latitude': 'lat'\n",
    "    })\n",
    "    ds = ds.sel(\n",
    "        level=levels,\n",
    "        lon=slice(extended_aus[0], extended_aus[1]),\n",
    "        lat=slice(extended_aus[2], extended_aus[3])\n",
    "    )\n",
    "    return ds #_daily_mean_1400(ds)"
   ]
  },
  {
   "cell_type": "code",
   "execution_count": 20,
   "id": "bf28f091-a18e-43ef-9d8b-b8ba40b36dc4",
   "metadata": {},
   "outputs": [
    {
     "name": "stdout",
     "output_type": "stream",
     "text": [
      "CPU times: user 11.4 s, sys: 708 ms, total: 12.1 s\n",
      "Wall time: 12 s\n"
     ]
    }
   ],
   "source": [
    "%%time\n",
    "z = xr.open_mfdataset(\n",
    "    files,\n",
    "    chunks={'time': 24, 'level': 1},\n",
    "    preprocess=preprocess,\n",
    "    compat='override',\n",
    "    coords='minimal',\n",
    "    engine='netcdf4'\n",
    ")"
   ]
  },
  {
   "cell_type": "code",
   "execution_count": 21,
   "id": "b931e9e2-9a14-4015-91da-e3870c8b3d0c",
   "metadata": {},
   "outputs": [],
   "source": [
    "z = _daily_mean_1400(z)"
   ]
  },
  {
   "cell_type": "code",
   "execution_count": 22,
   "id": "99562918-4894-4e15-9fe3-495dcca84468",
   "metadata": {},
   "outputs": [],
   "source": [
    "z = z.chunk({'time': 365})"
   ]
  },
  {
   "cell_type": "code",
   "execution_count": 24,
   "id": "470c46bc-d2ab-4151-8791-702919de33d3",
   "metadata": {},
   "outputs": [
    {
     "ename": "KeyboardInterrupt",
     "evalue": "",
     "output_type": "error",
     "traceback": [
      "\u001b[0;31m---------------------------------------------------------------------------\u001b[0m",
      "\u001b[0;31mKeyboardInterrupt\u001b[0m                         Traceback (most recent call last)",
      "File \u001b[0;32m<timed exec>:3\u001b[0m\n",
      "File \u001b[0;32m/g/data/w42/dr6273/apps/conda/envs/pangeo/lib/python3.10/site-packages/xarray/core/dataset.py:2091\u001b[0m, in \u001b[0;36mDataset.to_zarr\u001b[0;34m(self, store, chunk_store, mode, synchronizer, group, encoding, compute, consolidated, append_dim, region, safe_chunks, storage_options, zarr_version)\u001b[0m\n\u001b[1;32m   1974\u001b[0m \u001b[38;5;250m\u001b[39m\u001b[38;5;124;03m\"\"\"Write dataset contents to a zarr group.\u001b[39;00m\n\u001b[1;32m   1975\u001b[0m \n\u001b[1;32m   1976\u001b[0m \u001b[38;5;124;03mZarr chunks are determined in the following way:\u001b[39;00m\n\u001b[0;32m   (...)\u001b[0m\n\u001b[1;32m   2087\u001b[0m \u001b[38;5;124;03m    The I/O user guide, with more details and examples.\u001b[39;00m\n\u001b[1;32m   2088\u001b[0m \u001b[38;5;124;03m\"\"\"\u001b[39;00m\n\u001b[1;32m   2089\u001b[0m \u001b[38;5;28;01mfrom\u001b[39;00m \u001b[38;5;21;01m.\u001b[39;00m\u001b[38;5;21;01m.\u001b[39;00m\u001b[38;5;21;01mbackends\u001b[39;00m\u001b[38;5;21;01m.\u001b[39;00m\u001b[38;5;21;01mapi\u001b[39;00m \u001b[38;5;28;01mimport\u001b[39;00m to_zarr\n\u001b[0;32m-> 2091\u001b[0m \u001b[38;5;28;01mreturn\u001b[39;00m \u001b[43mto_zarr\u001b[49m\u001b[43m(\u001b[49m\u001b[43m  \u001b[49m\u001b[38;5;66;43;03m# type: ignore\u001b[39;49;00m\n\u001b[1;32m   2092\u001b[0m \u001b[43m    \u001b[49m\u001b[38;5;28;43mself\u001b[39;49m\u001b[43m,\u001b[49m\n\u001b[1;32m   2093\u001b[0m \u001b[43m    \u001b[49m\u001b[43mstore\u001b[49m\u001b[38;5;241;43m=\u001b[39;49m\u001b[43mstore\u001b[49m\u001b[43m,\u001b[49m\n\u001b[1;32m   2094\u001b[0m \u001b[43m    \u001b[49m\u001b[43mchunk_store\u001b[49m\u001b[38;5;241;43m=\u001b[39;49m\u001b[43mchunk_store\u001b[49m\u001b[43m,\u001b[49m\n\u001b[1;32m   2095\u001b[0m \u001b[43m    \u001b[49m\u001b[43mstorage_options\u001b[49m\u001b[38;5;241;43m=\u001b[39;49m\u001b[43mstorage_options\u001b[49m\u001b[43m,\u001b[49m\n\u001b[1;32m   2096\u001b[0m \u001b[43m    \u001b[49m\u001b[43mmode\u001b[49m\u001b[38;5;241;43m=\u001b[39;49m\u001b[43mmode\u001b[49m\u001b[43m,\u001b[49m\n\u001b[1;32m   2097\u001b[0m \u001b[43m    \u001b[49m\u001b[43msynchronizer\u001b[49m\u001b[38;5;241;43m=\u001b[39;49m\u001b[43msynchronizer\u001b[49m\u001b[43m,\u001b[49m\n\u001b[1;32m   2098\u001b[0m \u001b[43m    \u001b[49m\u001b[43mgroup\u001b[49m\u001b[38;5;241;43m=\u001b[39;49m\u001b[43mgroup\u001b[49m\u001b[43m,\u001b[49m\n\u001b[1;32m   2099\u001b[0m \u001b[43m    \u001b[49m\u001b[43mencoding\u001b[49m\u001b[38;5;241;43m=\u001b[39;49m\u001b[43mencoding\u001b[49m\u001b[43m,\u001b[49m\n\u001b[1;32m   2100\u001b[0m \u001b[43m    \u001b[49m\u001b[43mcompute\u001b[49m\u001b[38;5;241;43m=\u001b[39;49m\u001b[43mcompute\u001b[49m\u001b[43m,\u001b[49m\n\u001b[1;32m   2101\u001b[0m \u001b[43m    \u001b[49m\u001b[43mconsolidated\u001b[49m\u001b[38;5;241;43m=\u001b[39;49m\u001b[43mconsolidated\u001b[49m\u001b[43m,\u001b[49m\n\u001b[1;32m   2102\u001b[0m \u001b[43m    \u001b[49m\u001b[43mappend_dim\u001b[49m\u001b[38;5;241;43m=\u001b[39;49m\u001b[43mappend_dim\u001b[49m\u001b[43m,\u001b[49m\n\u001b[1;32m   2103\u001b[0m \u001b[43m    \u001b[49m\u001b[43mregion\u001b[49m\u001b[38;5;241;43m=\u001b[39;49m\u001b[43mregion\u001b[49m\u001b[43m,\u001b[49m\n\u001b[1;32m   2104\u001b[0m \u001b[43m    \u001b[49m\u001b[43msafe_chunks\u001b[49m\u001b[38;5;241;43m=\u001b[39;49m\u001b[43msafe_chunks\u001b[49m\u001b[43m,\u001b[49m\n\u001b[1;32m   2105\u001b[0m \u001b[43m    \u001b[49m\u001b[43mzarr_version\u001b[49m\u001b[38;5;241;43m=\u001b[39;49m\u001b[43mzarr_version\u001b[49m\u001b[43m,\u001b[49m\n\u001b[1;32m   2106\u001b[0m \u001b[43m\u001b[49m\u001b[43m)\u001b[49m\n",
      "File \u001b[0;32m/g/data/w42/dr6273/apps/conda/envs/pangeo/lib/python3.10/site-packages/xarray/backends/api.py:1670\u001b[0m, in \u001b[0;36mto_zarr\u001b[0;34m(dataset, store, chunk_store, mode, synchronizer, group, encoding, compute, consolidated, append_dim, region, safe_chunks, storage_options, zarr_version)\u001b[0m\n\u001b[1;32m   1668\u001b[0m \u001b[38;5;66;03m# TODO: figure out how to properly handle unlimited_dims\u001b[39;00m\n\u001b[1;32m   1669\u001b[0m dump_to_store(dataset, zstore, writer, encoding\u001b[38;5;241m=\u001b[39mencoding)\n\u001b[0;32m-> 1670\u001b[0m writes \u001b[38;5;241m=\u001b[39m \u001b[43mwriter\u001b[49m\u001b[38;5;241;43m.\u001b[39;49m\u001b[43msync\u001b[49m\u001b[43m(\u001b[49m\u001b[43mcompute\u001b[49m\u001b[38;5;241;43m=\u001b[39;49m\u001b[43mcompute\u001b[49m\u001b[43m)\u001b[49m\n\u001b[1;32m   1672\u001b[0m \u001b[38;5;28;01mif\u001b[39;00m compute:\n\u001b[1;32m   1673\u001b[0m     _finalize_store(writes, zstore)\n",
      "File \u001b[0;32m/g/data/w42/dr6273/apps/conda/envs/pangeo/lib/python3.10/site-packages/xarray/backends/common.py:171\u001b[0m, in \u001b[0;36mArrayWriter.sync\u001b[0;34m(self, compute)\u001b[0m\n\u001b[1;32m    165\u001b[0m \u001b[38;5;28;01mimport\u001b[39;00m \u001b[38;5;21;01mdask\u001b[39;00m\u001b[38;5;21;01m.\u001b[39;00m\u001b[38;5;21;01marray\u001b[39;00m \u001b[38;5;28;01mas\u001b[39;00m \u001b[38;5;21;01mda\u001b[39;00m\n\u001b[1;32m    167\u001b[0m \u001b[38;5;66;03m# TODO: consider wrapping targets with dask.delayed, if this makes\u001b[39;00m\n\u001b[1;32m    168\u001b[0m \u001b[38;5;66;03m# for any discernible difference in perforance, e.g.,\u001b[39;00m\n\u001b[1;32m    169\u001b[0m \u001b[38;5;66;03m# targets = [dask.delayed(t) for t in self.targets]\u001b[39;00m\n\u001b[0;32m--> 171\u001b[0m delayed_store \u001b[38;5;241m=\u001b[39m \u001b[43mda\u001b[49m\u001b[38;5;241;43m.\u001b[39;49m\u001b[43mstore\u001b[49m\u001b[43m(\u001b[49m\n\u001b[1;32m    172\u001b[0m \u001b[43m    \u001b[49m\u001b[38;5;28;43mself\u001b[39;49m\u001b[38;5;241;43m.\u001b[39;49m\u001b[43msources\u001b[49m\u001b[43m,\u001b[49m\n\u001b[1;32m    173\u001b[0m \u001b[43m    \u001b[49m\u001b[38;5;28;43mself\u001b[39;49m\u001b[38;5;241;43m.\u001b[39;49m\u001b[43mtargets\u001b[49m\u001b[43m,\u001b[49m\n\u001b[1;32m    174\u001b[0m \u001b[43m    \u001b[49m\u001b[43mlock\u001b[49m\u001b[38;5;241;43m=\u001b[39;49m\u001b[38;5;28;43mself\u001b[39;49m\u001b[38;5;241;43m.\u001b[39;49m\u001b[43mlock\u001b[49m\u001b[43m,\u001b[49m\n\u001b[1;32m    175\u001b[0m \u001b[43m    \u001b[49m\u001b[43mcompute\u001b[49m\u001b[38;5;241;43m=\u001b[39;49m\u001b[43mcompute\u001b[49m\u001b[43m,\u001b[49m\n\u001b[1;32m    176\u001b[0m \u001b[43m    \u001b[49m\u001b[43mflush\u001b[49m\u001b[38;5;241;43m=\u001b[39;49m\u001b[38;5;28;43;01mTrue\u001b[39;49;00m\u001b[43m,\u001b[49m\n\u001b[1;32m    177\u001b[0m \u001b[43m    \u001b[49m\u001b[43mregions\u001b[49m\u001b[38;5;241;43m=\u001b[39;49m\u001b[38;5;28;43mself\u001b[39;49m\u001b[38;5;241;43m.\u001b[39;49m\u001b[43mregions\u001b[49m\u001b[43m,\u001b[49m\n\u001b[1;32m    178\u001b[0m \u001b[43m\u001b[49m\u001b[43m)\u001b[49m\n\u001b[1;32m    179\u001b[0m \u001b[38;5;28mself\u001b[39m\u001b[38;5;241m.\u001b[39msources \u001b[38;5;241m=\u001b[39m []\n\u001b[1;32m    180\u001b[0m \u001b[38;5;28mself\u001b[39m\u001b[38;5;241m.\u001b[39mtargets \u001b[38;5;241m=\u001b[39m []\n",
      "File \u001b[0;32m/g/data/w42/dr6273/apps/conda/envs/pangeo/lib/python3.10/site-packages/dask/array/core.py:1169\u001b[0m, in \u001b[0;36mstore\u001b[0;34m(***failed resolving arguments***)\u001b[0m\n\u001b[1;32m   1167\u001b[0m \u001b[38;5;66;03m# Optimize all sources together\u001b[39;00m\n\u001b[1;32m   1168\u001b[0m sources_hlg \u001b[38;5;241m=\u001b[39m HighLevelGraph\u001b[38;5;241m.\u001b[39mmerge(\u001b[38;5;241m*\u001b[39m[e\u001b[38;5;241m.\u001b[39m__dask_graph__() \u001b[38;5;28;01mfor\u001b[39;00m e \u001b[38;5;129;01min\u001b[39;00m sources])\n\u001b[0;32m-> 1169\u001b[0m sources_layer \u001b[38;5;241m=\u001b[39m \u001b[43mArray\u001b[49m\u001b[38;5;241;43m.\u001b[39;49m\u001b[43m__dask_optimize__\u001b[49m\u001b[43m(\u001b[49m\n\u001b[1;32m   1170\u001b[0m \u001b[43m    \u001b[49m\u001b[43msources_hlg\u001b[49m\u001b[43m,\u001b[49m\u001b[43m \u001b[49m\u001b[38;5;28;43mlist\u001b[39;49m\u001b[43m(\u001b[49m\u001b[43mcore\u001b[49m\u001b[38;5;241;43m.\u001b[39;49m\u001b[43mflatten\u001b[49m\u001b[43m(\u001b[49m\u001b[43m[\u001b[49m\u001b[43me\u001b[49m\u001b[38;5;241;43m.\u001b[39;49m\u001b[43m__dask_keys__\u001b[49m\u001b[43m(\u001b[49m\u001b[43m)\u001b[49m\u001b[43m \u001b[49m\u001b[38;5;28;43;01mfor\u001b[39;49;00m\u001b[43m \u001b[49m\u001b[43me\u001b[49m\u001b[43m \u001b[49m\u001b[38;5;129;43;01min\u001b[39;49;00m\u001b[43m \u001b[49m\u001b[43msources\u001b[49m\u001b[43m]\u001b[49m\u001b[43m)\u001b[49m\u001b[43m)\u001b[49m\n\u001b[1;32m   1171\u001b[0m \u001b[43m\u001b[49m\u001b[43m)\u001b[49m\n\u001b[1;32m   1172\u001b[0m sources_name \u001b[38;5;241m=\u001b[39m \u001b[38;5;124m\"\u001b[39m\u001b[38;5;124mstore-sources-\u001b[39m\u001b[38;5;124m\"\u001b[39m \u001b[38;5;241m+\u001b[39m tokenize(sources)\n\u001b[1;32m   1173\u001b[0m layers \u001b[38;5;241m=\u001b[39m {sources_name: sources_layer}\n",
      "File \u001b[0;32m/g/data/w42/dr6273/apps/conda/envs/pangeo/lib/python3.10/site-packages/dask/array/optimization.py:57\u001b[0m, in \u001b[0;36moptimize\u001b[0;34m(dsk, keys, fuse_keys, fast_functions, inline_functions_fast_functions, rename_fused_keys, **kwargs)\u001b[0m\n\u001b[1;32m     54\u001b[0m \u001b[38;5;28;01mif\u001b[39;00m config\u001b[38;5;241m.\u001b[39mget(\u001b[38;5;124m\"\u001b[39m\u001b[38;5;124moptimization.fuse.active\u001b[39m\u001b[38;5;124m\"\u001b[39m) \u001b[38;5;129;01mis\u001b[39;00m \u001b[38;5;28;01mFalse\u001b[39;00m:\n\u001b[1;32m     55\u001b[0m     \u001b[38;5;28;01mreturn\u001b[39;00m dsk\n\u001b[0;32m---> 57\u001b[0m dependencies \u001b[38;5;241m=\u001b[39m \u001b[43mdsk\u001b[49m\u001b[38;5;241;43m.\u001b[39;49m\u001b[43mget_all_dependencies\u001b[49m\u001b[43m(\u001b[49m\u001b[43m)\u001b[49m\n\u001b[1;32m     58\u001b[0m dsk \u001b[38;5;241m=\u001b[39m ensure_dict(dsk)\n\u001b[1;32m     60\u001b[0m \u001b[38;5;66;03m# Low level task optimizations\u001b[39;00m\n",
      "File \u001b[0;32m/g/data/w42/dr6273/apps/conda/envs/pangeo/lib/python3.10/site-packages/dask/highlevelgraph.py:813\u001b[0m, in \u001b[0;36mHighLevelGraph.get_all_dependencies\u001b[0;34m(self)\u001b[0m\n\u001b[1;32m    811\u001b[0m \u001b[38;5;28;01mif\u001b[39;00m missing_keys:\n\u001b[1;32m    812\u001b[0m     \u001b[38;5;28;01mfor\u001b[39;00m layer \u001b[38;5;129;01min\u001b[39;00m \u001b[38;5;28mself\u001b[39m\u001b[38;5;241m.\u001b[39mlayers\u001b[38;5;241m.\u001b[39mvalues():\n\u001b[0;32m--> 813\u001b[0m         \u001b[38;5;28;01mfor\u001b[39;00m k \u001b[38;5;129;01min\u001b[39;00m \u001b[43mmissing_keys\u001b[49m\u001b[43m \u001b[49m\u001b[38;5;241;43m&\u001b[39;49m\u001b[43m \u001b[49m\u001b[43mlayer\u001b[49m\u001b[38;5;241;43m.\u001b[39;49m\u001b[43mkeys\u001b[49m\u001b[43m(\u001b[49m\u001b[43m)\u001b[49m:\n\u001b[1;32m    814\u001b[0m             \u001b[38;5;28mself\u001b[39m\u001b[38;5;241m.\u001b[39mkey_dependencies[k] \u001b[38;5;241m=\u001b[39m layer\u001b[38;5;241m.\u001b[39mget_dependencies(k, all_keys)\n\u001b[1;32m    815\u001b[0m \u001b[38;5;28;01mreturn\u001b[39;00m \u001b[38;5;28mself\u001b[39m\u001b[38;5;241m.\u001b[39mkey_dependencies\n",
      "File \u001b[0;32m/g/data/w42/dr6273/apps/conda/envs/pangeo/lib/python3.10/_collections_abc.py:633\u001b[0m, in \u001b[0;36mSet.__and__\u001b[0;34m(self, other)\u001b[0m\n\u001b[1;32m    631\u001b[0m \u001b[38;5;28;01mif\u001b[39;00m \u001b[38;5;129;01mnot\u001b[39;00m \u001b[38;5;28misinstance\u001b[39m(other, Iterable):\n\u001b[1;32m    632\u001b[0m     \u001b[38;5;28;01mreturn\u001b[39;00m \u001b[38;5;28mNotImplemented\u001b[39m\n\u001b[0;32m--> 633\u001b[0m \u001b[38;5;28;01mreturn\u001b[39;00m \u001b[38;5;28;43mself\u001b[39;49m\u001b[38;5;241;43m.\u001b[39;49m\u001b[43m_from_iterable\u001b[49m\u001b[43m(\u001b[49m\u001b[43mvalue\u001b[49m\u001b[43m \u001b[49m\u001b[38;5;28;43;01mfor\u001b[39;49;00m\u001b[43m \u001b[49m\u001b[43mvalue\u001b[49m\u001b[43m \u001b[49m\u001b[38;5;129;43;01min\u001b[39;49;00m\u001b[43m \u001b[49m\u001b[43mother\u001b[49m\u001b[43m \u001b[49m\u001b[38;5;28;43;01mif\u001b[39;49;00m\u001b[43m \u001b[49m\u001b[43mvalue\u001b[49m\u001b[43m \u001b[49m\u001b[38;5;129;43;01min\u001b[39;49;00m\u001b[43m \u001b[49m\u001b[38;5;28;43mself\u001b[39;49m\u001b[43m)\u001b[49m\n",
      "File \u001b[0;32m/g/data/w42/dr6273/apps/conda/envs/pangeo/lib/python3.10/_collections_abc.py:875\u001b[0m, in \u001b[0;36mKeysView._from_iterable\u001b[0;34m(cls, it)\u001b[0m\n\u001b[1;32m    873\u001b[0m \u001b[38;5;129m@classmethod\u001b[39m\n\u001b[1;32m    874\u001b[0m \u001b[38;5;28;01mdef\u001b[39;00m \u001b[38;5;21m_from_iterable\u001b[39m(\u001b[38;5;28mcls\u001b[39m, it):\n\u001b[0;32m--> 875\u001b[0m     \u001b[38;5;28;01mreturn\u001b[39;00m \u001b[38;5;28;43mset\u001b[39;49m\u001b[43m(\u001b[49m\u001b[43mit\u001b[49m\u001b[43m)\u001b[49m\n",
      "File \u001b[0;32m/g/data/w42/dr6273/apps/conda/envs/pangeo/lib/python3.10/_collections_abc.py:633\u001b[0m, in \u001b[0;36m<genexpr>\u001b[0;34m(.0)\u001b[0m\n\u001b[1;32m    631\u001b[0m \u001b[38;5;28;01mif\u001b[39;00m \u001b[38;5;129;01mnot\u001b[39;00m \u001b[38;5;28misinstance\u001b[39m(other, Iterable):\n\u001b[1;32m    632\u001b[0m     \u001b[38;5;28;01mreturn\u001b[39;00m \u001b[38;5;28mNotImplemented\u001b[39m\n\u001b[0;32m--> 633\u001b[0m \u001b[38;5;28;01mreturn\u001b[39;00m \u001b[38;5;28mself\u001b[39m\u001b[38;5;241m.\u001b[39m_from_iterable(value \u001b[38;5;28;01mfor\u001b[39;00m value \u001b[38;5;129;01min\u001b[39;00m other \u001b[38;5;28;01mif\u001b[39;00m value \u001b[38;5;129;01min\u001b[39;00m \u001b[38;5;28mself\u001b[39m)\n",
      "\u001b[0;31mKeyboardInterrupt\u001b[0m: "
     ]
    }
   ],
   "source": [
    "%%time\n",
    "encoding = {'z': {'dtype': 'float32'}}\n",
    "    \n",
    "z.to_zarr(\n",
    "    data_fp + dataset + '/z/z_' + dataset + '_daily_average_pl_' + str(years[0]) + '-' + str(years[-1]) + '.zarr',\n",
    "    mode='w',\n",
    "    consolidated=True,\n",
    "    encoding=encoding\n",
    ")"
   ]
  },
  {
   "cell_type": "code",
   "execution_count": 82,
   "id": "9b1c4116-2afd-44de-9cd5-ebe6fc5ffecd",
   "metadata": {},
   "outputs": [],
   "source": [
    "# year = [1959]\n",
    "\n",
    "# z = fn.open_era_data(\n",
    "#     root_path='/g/data/rt52/era5/pressure-levels/reanalysis/',\n",
    "#     variable='z',\n",
    "#     years=year,\n",
    "#     subset_region=extended_aus,\n",
    "#     subset_level=[500],\n",
    "#     preprocess_func=_daily_mean_1400,\n",
    "#     mfdataset_chunks={'time': 24}\n",
    "# )\n",
    "\n",
    "# z = z.chunk({'time': -1})\n",
    "\n",
    "# z.to_zarr(\n",
    "#     data_fp + dataset + '/z/z_' + dataset + '_daily_average_pl_' + str(years[0]) + '-' + str(years[-1]) + '.zarr',\n",
    "#     mode='w',\n",
    "#     consolidated=True\n",
    "# )"
   ]
  },
  {
   "cell_type": "markdown",
   "id": "46bdb6ed-72b4-480d-9a8c-ff29b9784e2e",
   "metadata": {},
   "source": [
    "## 500 hPa geopotential height"
   ]
  },
  {
   "cell_type": "code",
   "execution_count": 90,
   "id": "ed891044-fb4b-4ad2-8a18-f53f536f53ab",
   "metadata": {},
   "outputs": [],
   "source": [
    "# years = range(2010, 2011)"
   ]
  },
  {
   "cell_type": "code",
   "execution_count": 83,
   "id": "3f504a1f-e714-4c67-a810-9361de050c6b",
   "metadata": {},
   "outputs": [],
   "source": [
    "# dataset = 'era5'\n",
    "# z_fp = data_fp + dataset + '/z/z_anom_' + dataset + '_daily_average_pl_' + str(years[0]) + '-' + str(years[-1]) + '.zarr'\n",
    "# print(z_fp)"
   ]
  },
  {
   "cell_type": "code",
   "execution_count": 84,
   "id": "0012b549-7b4b-4816-9edd-4f30e865dc11",
   "metadata": {},
   "outputs": [],
   "source": [
    "# z_anoms = anomalise_and_process(\n",
    "#     load=False,\n",
    "#     dataset='era5',\n",
    "#     filepath=z_fp,\n",
    "#     data_root_path='/g/data/rt52/era5/pressure-levels/reanalysis/',\n",
    "#     var_name='z',\n",
    "#     years=years,\n",
    "#     subset_region=extended_aus,\n",
    "#     subset_level=[500],\n",
    "#     preprocess_func=_daily_mean_1400,\n",
    "#     mfdataset_chunks={'time': 24},\n",
    "#     anom_freq='dayofyear',\n",
    "#     new_var_name='z',\n",
    "#     long_name='Geopotential height',\n",
    "#     units='m',\n",
    "#     chunks={'time': 12, 'lat': -1, 'lon': -1}\n",
    "# )"
   ]
  },
  {
   "cell_type": "code",
   "execution_count": 85,
   "id": "fb4dfb5f-d62e-4b24-b9bc-da7ab1c76870",
   "metadata": {},
   "outputs": [],
   "source": [
    "# z = fn.open_era_data(root_path='/g/data/rt52/era5/pressure-levels/reanalysis/',\n",
    "#                 variable='z',\n",
    "#                 years=years,\n",
    "#                     subset_region=extended_aus,\n",
    "#                     subset_level=[500],\n",
    "#                     preprocess_func=_daily_mean_1400,\n",
    "#                     mfdataset_chunks={'time': 24})"
   ]
  },
  {
   "cell_type": "markdown",
   "id": "e7211568-3f3c-41f4-9af7-5c565e961153",
   "metadata": {},
   "source": [
    "# Monthly data, global"
   ]
  },
  {
   "cell_type": "markdown",
   "id": "bcb0e12e-ce17-45e8-95e2-af5465c285f5",
   "metadata": {},
   "source": [
    "## SST data"
   ]
  },
  {
   "cell_type": "code",
   "execution_count": 9,
   "id": "a3a4cc8a-c7cd-46a2-927a-9fb1ec4cef97",
   "metadata": {},
   "outputs": [
    {
     "name": "stdout",
     "output_type": "stream",
     "text": [
      "/g/data/w42/dr6273/work/data/hadisst/sst/sst_anom_hadisst_moda_sfc_1959-2020.zarr\n"
     ]
    }
   ],
   "source": [
    "dataset = 'hadisst'\n",
    "sst_fp = data_fp + dataset + '/sst/sst_anom_'+dataset+'_moda_sfc_'+str(years[0])+'-'+str(years[-1])+'.zarr'\n",
    "print(sst_fp)"
   ]
  },
  {
   "cell_type": "code",
   "execution_count": 46,
   "id": "af7464ec-e3bd-476a-b515-d52313323279",
   "metadata": {},
   "outputs": [],
   "source": [
    "sst_anoms = anomalise_and_process(\n",
    "    load=True,\n",
    "    dataset='hadisst',\n",
    "    filepath=sst_fp,\n",
    "    data_root_path='/g/data/xv83/reanalyses/HadISST/ocean_month.zarr',\n",
    "    var_name='sst',\n",
    "    years=years,\n",
    "    subset_region=None,\n",
    "    subset_level=None,\n",
    "    preprocess_func=None,\n",
    "    mfdataset_chunks=None,\n",
    "    anom_freq='month',\n",
    "    new_var_name='sst',\n",
    "    long_name='Sea surface temperature',\n",
    "    units='K',\n",
    "    chunks={'time': 12, 'lat': -1, 'lon': -1}\n",
    ")"
   ]
  },
  {
   "cell_type": "markdown",
   "id": "5246d095-cdc0-4dbc-9dbc-be70e0c48736",
   "metadata": {},
   "source": [
    "### Nino 3.4"
   ]
  },
  {
   "cell_type": "code",
   "execution_count": 47,
   "id": "049e920a-f65f-4ab6-b9d9-834fc4867b3a",
   "metadata": {},
   "outputs": [],
   "source": [
    "nino34 = sst_anoms.sst_anom.sel(\n",
    "    lat=slice(5, -5),\n",
    "    lon=slice(-170, -120)\n",
    ").mean(['lat','lon']).to_dataset(name='nino34')"
   ]
  },
  {
   "cell_type": "code",
   "execution_count": 48,
   "id": "bcce4396-a9e8-4293-a89f-2c9c9c1c556d",
   "metadata": {},
   "outputs": [],
   "source": [
    "nino34_dt = fn.detrend_dim(nino34.nino34, 'time').to_dataset(name='nino34_detrended')"
   ]
  },
  {
   "cell_type": "code",
   "execution_count": 49,
   "id": "1c413519-b77f-4ffa-921e-f8ae3353091f",
   "metadata": {},
   "outputs": [],
   "source": [
    "nino34 = nino34.merge(nino34_dt)"
   ]
  },
  {
   "cell_type": "code",
   "execution_count": 50,
   "id": "19924ccc-5123-497c-9573-ac482b9ffc3f",
   "metadata": {},
   "outputs": [
    {
     "data": {
      "text/plain": [
       "<xarray.backends.zarr.ZarrStore at 0x150d125c49e0>"
      ]
     },
     "execution_count": 50,
     "metadata": {},
     "output_type": "execute_result"
    }
   ],
   "source": [
    "nino34_fp = data_fp + dataset + '/climate_modes/'+dataset+'_nino34_'+str(years[0])+'-'+str(years[-1])+'.zarr'\n",
    "nino34.to_zarr(nino34_fp, mode='w', consolidated=True)"
   ]
  },
  {
   "cell_type": "markdown",
   "id": "317dcbec-9492-49ed-adaa-fe85f01bc207",
   "metadata": {},
   "source": [
    "### Dipole mode index"
   ]
  },
  {
   "cell_type": "code",
   "execution_count": 51,
   "id": "0d09bddd-24ab-458c-b7f6-8af674d9e615",
   "metadata": {},
   "outputs": [],
   "source": [
    "def calc_dmi(da):\n",
    "    \"\"\"\n",
    "    Calculate Dipole Mode Index\n",
    "    \"\"\"    \n",
    "    da_W = da.sel(lat=slice(10, -10), lon=slice(50, 70)).mean(['lat', 'lon'])\n",
    "    da_E = da.sel(lat=slice(0, -10), lon=slice(90, 110)).mean(['lat', 'lon'])\n",
    "    \n",
    "    return (da_W - da_E)"
   ]
  },
  {
   "cell_type": "code",
   "execution_count": 52,
   "id": "6ca9f879-23e1-4bee-992b-e63e0ae8e33e",
   "metadata": {},
   "outputs": [],
   "source": [
    "dmi = calc_dmi(sst_anoms.sst_anom).to_dataset(name='dmi')"
   ]
  },
  {
   "cell_type": "code",
   "execution_count": 53,
   "id": "bde8187f-36ea-4d69-8017-9036892beed1",
   "metadata": {},
   "outputs": [],
   "source": [
    "dmi_dt = fn.detrend_dim(dmi.dmi, 'time').to_dataset(name='dmi_detrended')"
   ]
  },
  {
   "cell_type": "code",
   "execution_count": 54,
   "id": "11817727-ff3b-4dfb-bb5c-23176288562a",
   "metadata": {},
   "outputs": [],
   "source": [
    "dmi = dmi.merge(dmi_dt)"
   ]
  },
  {
   "cell_type": "code",
   "execution_count": 55,
   "id": "810362cc-6909-45dc-b6c9-96f7dd4da4aa",
   "metadata": {},
   "outputs": [],
   "source": [
    "dmi_fp = data_fp + dataset + '/climate_modes/' + dataset + '_dmi_' + str(years[0]) + '-' + str(years[-1]) + '.zarr'"
   ]
  },
  {
   "cell_type": "code",
   "execution_count": 56,
   "id": "947dea34-97dd-4103-a6f6-b315067a8805",
   "metadata": {},
   "outputs": [
    {
     "data": {
      "text/plain": [
       "<xarray.backends.zarr.ZarrStore at 0x150d0f843920>"
      ]
     },
     "execution_count": 56,
     "metadata": {},
     "output_type": "execute_result"
    }
   ],
   "source": [
    "dmi.to_zarr(dmi_fp, mode='w', consolidated=True)"
   ]
  },
  {
   "cell_type": "markdown",
   "id": "48788be9-d88b-4220-8351-dac6f350de2a",
   "metadata": {},
   "source": [
    "## MSLP data"
   ]
  },
  {
   "cell_type": "code",
   "execution_count": 8,
   "id": "121b6b4a-d58d-45fc-b7e2-19327a830295",
   "metadata": {},
   "outputs": [
    {
     "name": "stdout",
     "output_type": "stream",
     "text": [
      "/g/data/w42/dr6273/work/data/era5/mslp/mslp_anom_era5_moda_sfc_1959-2020.zarr\n"
     ]
    }
   ],
   "source": [
    "dataset = 'era5'\n",
    "mslp_fp = data_fp + dataset + '/mslp/mslp_anom_'+dataset+'_moda_sfc_'+str(years[0])+'-'+str(years[-1])+'.zarr'\n",
    "print(mslp_fp)"
   ]
  },
  {
   "cell_type": "code",
   "execution_count": 94,
   "id": "c8ffdb1d-717d-4550-9957-3364d2c0b49e",
   "metadata": {},
   "outputs": [],
   "source": [
    "mslp_anoms = anomalise_and_process(\n",
    "    load=False,\n",
    "    dataset='era5',\n",
    "    filepath=mslp_fp,\n",
    "    data_root_path='/g/data/rt52/era5/single-levels/monthly-averaged/',\n",
    "    var_name='msl',\n",
    "    years=years,\n",
    "    subset_region=None,\n",
    "    subset_level=None,\n",
    "    preprocess_func=None,\n",
    "    mfdataset_chunks=None,\n",
    "    anom_freq='month',\n",
    "    new_var_name='mslp',\n",
    "    long_name='Mean sea level pressure',\n",
    "    units='Pa',\n",
    "    chunks={'time': 12, 'lat': -1, 'lon': -1}\n",
    ")"
   ]
  },
  {
   "cell_type": "markdown",
   "id": "8132f010-d73d-4f7a-bb4d-37de4e153468",
   "metadata": {},
   "source": [
    "### Southern Annular Mode index"
   ]
  },
  {
   "cell_type": "code",
   "execution_count": 26,
   "id": "a871d7d6-3e27-4861-91d9-2a6d7a43fa7c",
   "metadata": {},
   "outputs": [],
   "source": [
    "def calc_sam(mslp_anoms, lat_name='lat', lon_name='lon', time_name='time'):\n",
    "    \"\"\"\n",
    "    Calculate Southern Annular Mode index from MSLP anomalies. The SAM index is\n",
    "    defined as the difference in MSLP anomalies between 40 and 65 degrees South.\n",
    "    MSLP anomalies are first normalised by dividing by their standard deviation\n",
    "    (calculated as a function of calendar month).\n",
    "    \"\"\"\n",
    "    \n",
    "    mslp_40 = mslp_anoms.interp({lat_name: -40}).mean(lon_name)\n",
    "    mslp_65 = mslp_anoms.interp({lat_name: -65}).mean(lon_name)\n",
    "    \n",
    "    norm_40 = mslp_40.groupby(time_name+'.month').apply(lambda x: x / x.std(time_name))\n",
    "    norm_65 = mslp_65.groupby(time_name+'.month').apply(lambda x: x / x.std(time_name))\n",
    "    \n",
    "    return norm_40 - norm_65"
   ]
  },
  {
   "cell_type": "code",
   "execution_count": 27,
   "id": "5b7de44d-9610-4b6e-8bd5-1c180c8ed2ff",
   "metadata": {},
   "outputs": [],
   "source": [
    "sam = calc_sam(mslp_anoms)"
   ]
  },
  {
   "cell_type": "code",
   "execution_count": 31,
   "id": "8de16708-569e-4247-929c-fd0a132a0050",
   "metadata": {},
   "outputs": [],
   "source": [
    "sam = sam.rename({'mslp_anom': 'sam'})"
   ]
  },
  {
   "cell_type": "code",
   "execution_count": 32,
   "id": "5fca1bed-434a-4cd8-9c15-630e0ea8dc36",
   "metadata": {},
   "outputs": [],
   "source": [
    "sam_dt = fn.detrend_dim(sam.sam, 'time').to_dataset(name='sam_detrended')"
   ]
  },
  {
   "cell_type": "code",
   "execution_count": 33,
   "id": "2d6db17d-4a20-4b62-b6e6-355035feb5f0",
   "metadata": {},
   "outputs": [],
   "source": [
    "sam = sam.merge(sam_dt)"
   ]
  },
  {
   "cell_type": "code",
   "execution_count": 36,
   "id": "27cf60fc-e64a-4fef-a800-e69fb0876b37",
   "metadata": {},
   "outputs": [
    {
     "data": {
      "text/plain": [
       "<xarray.backends.zarr.ZarrStore at 0x1524973aad50>"
      ]
     },
     "execution_count": 36,
     "metadata": {},
     "output_type": "execute_result"
    }
   ],
   "source": [
    "sam_fp = data_fp + dataset + '/climate_modes/'+dataset+'_sam_'+str(years[0])+'-'+str(years[-1])+'.zarr'\n",
    "sam.to_zarr(sam_fp, mode='w', consolidated=True)"
   ]
  },
  {
   "cell_type": "markdown",
   "id": "38f21d89-34f0-48aa-a72d-f29aa3e81d0d",
   "metadata": {},
   "source": [
    "# Close cluster"
   ]
  },
  {
   "cell_type": "code",
   "execution_count": 59,
   "id": "dca99be2-eba1-4457-aac3-5a4552044885",
   "metadata": {},
   "outputs": [],
   "source": [
    "client.close()\n",
    "cluster.close()"
   ]
  },
  {
   "cell_type": "code",
   "execution_count": null,
   "id": "e520de80-b857-4da8-ab24-65a903886be0",
   "metadata": {},
   "outputs": [],
   "source": []
  }
 ],
 "metadata": {
  "kernelspec": {
   "display_name": "Python (pangeo)",
   "language": "python",
   "name": "pangeo"
  },
  "language_info": {
   "codemirror_mode": {
    "name": "ipython",
    "version": 3
   },
   "file_extension": ".py",
   "mimetype": "text/x-python",
   "name": "python",
   "nbconvert_exporter": "python",
   "pygments_lexer": "ipython3",
   "version": "3.10.8"
  }
 },
 "nbformat": 4,
 "nbformat_minor": 5
}
