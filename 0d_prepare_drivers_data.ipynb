{
 "cells": [
  {
   "cell_type": "markdown",
   "id": "38130fe6-9d8c-4edc-8b37-2abe0782b8f7",
   "metadata": {},
   "source": [
    "# Prepare atmospheric and ocean data"
   ]
  },
  {
   "cell_type": "code",
   "execution_count": 1,
   "id": "1c233f26-1fbe-4e0a-91cc-19323aa33a71",
   "metadata": {},
   "outputs": [],
   "source": [
    "from dask.distributed import Client,LocalCluster\n",
    "from dask_jobqueue import PBSCluster"
   ]
  },
  {
   "cell_type": "code",
   "execution_count": 2,
   "id": "e25ead5e-0743-4b11-ba46-22d7eccdbb8c",
   "metadata": {},
   "outputs": [],
   "source": [
    "# One node on Gadi has 48 cores - try and use up a full node before going to multiple nodes (jobs)\n",
    "\n",
    "walltime = '00:30:00'\n",
    "cores = 4\n",
    "memory = str(4 * cores) + 'GB'\n",
    "\n",
    "cluster = PBSCluster(walltime=str(walltime), cores=cores, memory=str(memory), processes=cores,\n",
    "                     job_extra_directives=['-q normal',\n",
    "                                           '-P w42',\n",
    "                                           '-l ncpus='+str(cores),\n",
    "                                           '-l mem='+str(memory),\n",
    "                                           '-l storage=gdata/w42+gdata/rt52+gdata/xv83'],\n",
    "                     local_directory='$TMPDIR',\n",
    "                     job_directives_skip=[\"select\"])\n",
    "                     # python=os.environ[\"DASK_PYTHON\"])"
   ]
  },
  {
   "cell_type": "code",
   "execution_count": 3,
   "id": "aef43f7a-0ce1-463e-a55e-b7ef3ac8d8f3",
   "metadata": {},
   "outputs": [],
   "source": [
    "cluster.scale(jobs=1)\n",
    "client = Client(cluster)"
   ]
  },
  {
   "cell_type": "code",
   "execution_count": 4,
   "id": "991e01c8-eeeb-48c3-b146-6b679ffc9857",
   "metadata": {},
   "outputs": [
    {
     "data": {
      "text/html": [
       "<div>\n",
       "    <div style=\"width: 24px; height: 24px; background-color: #e1e1e1; border: 3px solid #9D9D9D; border-radius: 5px; position: absolute;\"> </div>\n",
       "    <div style=\"margin-left: 48px;\">\n",
       "        <h3 style=\"margin-bottom: 0px;\">Client</h3>\n",
       "        <p style=\"color: #9D9D9D; margin-bottom: 0px;\">Client-bfffe42d-b405-11ed-8a8a-00000085fe80</p>\n",
       "        <table style=\"width: 100%; text-align: left;\">\n",
       "\n",
       "        <tr>\n",
       "        \n",
       "            <td style=\"text-align: left;\"><strong>Connection method:</strong> Cluster object</td>\n",
       "            <td style=\"text-align: left;\"><strong>Cluster type:</strong> dask_jobqueue.PBSCluster</td>\n",
       "        \n",
       "        </tr>\n",
       "\n",
       "        \n",
       "            <tr>\n",
       "                <td style=\"text-align: left;\">\n",
       "                    <strong>Dashboard: </strong> <a href=\"http://10.6.71.12:8787/status\" target=\"_blank\">http://10.6.71.12:8787/status</a>\n",
       "                </td>\n",
       "                <td style=\"text-align: left;\"></td>\n",
       "            </tr>\n",
       "        \n",
       "\n",
       "        </table>\n",
       "\n",
       "        \n",
       "            <button style=\"margin-bottom: 12px;\" data-commandlinker-command=\"dask:populate-and-launch-layout\" data-commandlinker-args='{\"url\": \"http://10.6.71.12:8787/status\" }'>\n",
       "                Launch dashboard in JupyterLab\n",
       "            </button>\n",
       "        \n",
       "\n",
       "        \n",
       "            <details>\n",
       "            <summary style=\"margin-bottom: 20px;\"><h3 style=\"display: inline;\">Cluster Info</h3></summary>\n",
       "            <div class=\"jp-RenderedHTMLCommon jp-RenderedHTML jp-mod-trusted jp-OutputArea-output\">\n",
       "    <div style=\"width: 24px; height: 24px; background-color: #e1e1e1; border: 3px solid #9D9D9D; border-radius: 5px; position: absolute;\">\n",
       "    </div>\n",
       "    <div style=\"margin-left: 48px;\">\n",
       "        <h3 style=\"margin-bottom: 0px; margin-top: 0px;\">PBSCluster</h3>\n",
       "        <p style=\"color: #9D9D9D; margin-bottom: 0px;\">0f5d5376</p>\n",
       "        <table style=\"width: 100%; text-align: left;\">\n",
       "            <tr>\n",
       "                <td style=\"text-align: left;\">\n",
       "                    <strong>Dashboard:</strong> <a href=\"http://10.6.71.12:8787/status\" target=\"_blank\">http://10.6.71.12:8787/status</a>\n",
       "                </td>\n",
       "                <td style=\"text-align: left;\">\n",
       "                    <strong>Workers:</strong> 0\n",
       "                </td>\n",
       "            </tr>\n",
       "            <tr>\n",
       "                <td style=\"text-align: left;\">\n",
       "                    <strong>Total threads:</strong> 0\n",
       "                </td>\n",
       "                <td style=\"text-align: left;\">\n",
       "                    <strong>Total memory:</strong> 0 B\n",
       "                </td>\n",
       "            </tr>\n",
       "            \n",
       "        </table>\n",
       "\n",
       "        <details>\n",
       "            <summary style=\"margin-bottom: 20px;\">\n",
       "                <h3 style=\"display: inline;\">Scheduler Info</h3>\n",
       "            </summary>\n",
       "\n",
       "            <div style=\"\">\n",
       "    <div>\n",
       "        <div style=\"width: 24px; height: 24px; background-color: #FFF7E5; border: 3px solid #FF6132; border-radius: 5px; position: absolute;\"> </div>\n",
       "        <div style=\"margin-left: 48px;\">\n",
       "            <h3 style=\"margin-bottom: 0px;\">Scheduler</h3>\n",
       "            <p style=\"color: #9D9D9D; margin-bottom: 0px;\">Scheduler-d0cb432a-88b5-4249-92cf-9bc2fae4adea</p>\n",
       "            <table style=\"width: 100%; text-align: left;\">\n",
       "                <tr>\n",
       "                    <td style=\"text-align: left;\">\n",
       "                        <strong>Comm:</strong> tcp://10.6.71.12:33815\n",
       "                    </td>\n",
       "                    <td style=\"text-align: left;\">\n",
       "                        <strong>Workers:</strong> 0\n",
       "                    </td>\n",
       "                </tr>\n",
       "                <tr>\n",
       "                    <td style=\"text-align: left;\">\n",
       "                        <strong>Dashboard:</strong> <a href=\"http://10.6.71.12:8787/status\" target=\"_blank\">http://10.6.71.12:8787/status</a>\n",
       "                    </td>\n",
       "                    <td style=\"text-align: left;\">\n",
       "                        <strong>Total threads:</strong> 0\n",
       "                    </td>\n",
       "                </tr>\n",
       "                <tr>\n",
       "                    <td style=\"text-align: left;\">\n",
       "                        <strong>Started:</strong> Just now\n",
       "                    </td>\n",
       "                    <td style=\"text-align: left;\">\n",
       "                        <strong>Total memory:</strong> 0 B\n",
       "                    </td>\n",
       "                </tr>\n",
       "            </table>\n",
       "        </div>\n",
       "    </div>\n",
       "\n",
       "    <details style=\"margin-left: 48px;\">\n",
       "        <summary style=\"margin-bottom: 20px;\">\n",
       "            <h3 style=\"display: inline;\">Workers</h3>\n",
       "        </summary>\n",
       "\n",
       "        \n",
       "\n",
       "    </details>\n",
       "</div>\n",
       "\n",
       "        </details>\n",
       "    </div>\n",
       "</div>\n",
       "            </details>\n",
       "        \n",
       "\n",
       "    </div>\n",
       "</div>"
      ],
      "text/plain": [
       "<Client: 'tcp://10.6.71.12:33815' processes=0 threads=0, memory=0 B>"
      ]
     },
     "execution_count": 4,
     "metadata": {},
     "output_type": "execute_result"
    }
   ],
   "source": [
    "client"
   ]
  },
  {
   "cell_type": "code",
   "execution_count": 30,
   "id": "85975a6c-38e4-401e-a515-430e23698f03",
   "metadata": {},
   "outputs": [],
   "source": [
    "import xarray as xr\n",
    "import numpy as np\n",
    "import pandas as pd"
   ]
  },
  {
   "cell_type": "code",
   "execution_count": 6,
   "id": "8cfd113e-ac71-48b0-98fe-e04d75390608",
   "metadata": {},
   "outputs": [],
   "source": [
    "import functions as fn"
   ]
  },
  {
   "cell_type": "code",
   "execution_count": 42,
   "id": "e6852ea2-f6c0-4575-8e60-3accf788f1bf",
   "metadata": {},
   "outputs": [],
   "source": [
    "def anomalise_and_process(\n",
    "    load,\n",
    "    dataset,\n",
    "    filepath,\n",
    "    data_root_path,\n",
    "    var_name,\n",
    "    years,\n",
    "    new_var_name,\n",
    "    long_name,\n",
    "    units,\n",
    "    chunks\n",
    "):\n",
    "    if load:\n",
    "        return xr.open_zarr(filepath, consolidated=True)\n",
    "    else:\n",
    "        if dataset == 'era5':\n",
    "            ds = fn.open_era_data(\n",
    "                root_path=data_root_path,\n",
    "                variable=var_name,\n",
    "                years=years\n",
    "            )\n",
    "        elif dataset == 'hadisst':\n",
    "            ds = xr.open_zarr(data_root_path, consolidated=True)\n",
    "            ds = ds.sel(time=slice(str(years[0]), str(years[-1])))\n",
    "            ds['time'] = pd.date_range(str(years[0]), str(years[-1])+'-12-01', freq='1MS')\n",
    "            ds = xr.where(ds > -2, ds, np.nan)\n",
    "        else:\n",
    "            raise ValueError(\"Incorrect dataset.\")\n",
    "            \n",
    "        ds = ds.rename({\n",
    "            'latitude': 'lat',\n",
    "            'longitude': 'lon',\n",
    "            var_name: new_var_name\n",
    "        })\n",
    "        da = ds[new_var_name]\n",
    "        da = da.chunk(chunks)\n",
    "            \n",
    "        da_anoms = da.groupby('time.month').apply(lambda x: x - x.mean('time'))\n",
    "            \n",
    "        da_anoms = da_anoms.assign_attrs({\n",
    "            'long_name': long_name,\n",
    "            'short_name': new_var_name,\n",
    "            'units': units\n",
    "        })\n",
    "            \n",
    "        ds_anoms = da_anoms.to_dataset(name=new_var_name + '_anom')\n",
    "        encoding = {new_var_name + '_anom': {'dtype': 'float32'}}\n",
    "        ds_anoms.to_zarr(\n",
    "            filepath,\n",
    "            mode='w',\n",
    "            consolidated=True,\n",
    "            encoding=encoding\n",
    "        )\n",
    "        \n",
    "        return ds_anoms"
   ]
  },
  {
   "cell_type": "code",
   "execution_count": 8,
   "id": "94bd3c58-ac6e-46b7-941e-b22b89260c44",
   "metadata": {},
   "outputs": [],
   "source": [
    "data_fp = '/g/data/w42/dr6273/work/data/'\n",
    "years = range(1959, 2021)"
   ]
  },
  {
   "cell_type": "markdown",
   "id": "bcb0e12e-ce17-45e8-95e2-af5465c285f5",
   "metadata": {},
   "source": [
    "# SST data"
   ]
  },
  {
   "cell_type": "code",
   "execution_count": 9,
   "id": "a3a4cc8a-c7cd-46a2-927a-9fb1ec4cef97",
   "metadata": {},
   "outputs": [
    {
     "name": "stdout",
     "output_type": "stream",
     "text": [
      "/g/data/w42/dr6273/work/data/hadisst/sst/sst_anom_hadisst_moda_sfc_1959-2020.zarr\n"
     ]
    }
   ],
   "source": [
    "dataset = 'hadisst'\n",
    "sst_fp = data_fp + dataset + '/sst/sst_anom_'+dataset+'_moda_sfc_'+str(years[0])+'-'+str(years[-1])+'.zarr'\n",
    "print(sst_fp)"
   ]
  },
  {
   "cell_type": "code",
   "execution_count": 46,
   "id": "af7464ec-e3bd-476a-b515-d52313323279",
   "metadata": {},
   "outputs": [],
   "source": [
    "sst_anoms = anomalise_and_process(\n",
    "    load=True,\n",
    "    dataset='hadisst',\n",
    "    filepath=sst_fp,\n",
    "    data_root_path='/g/data/xv83/reanalyses/HadISST/ocean_month.zarr',\n",
    "    var_name='sst',\n",
    "    years=years,\n",
    "    new_var_name='sst',\n",
    "    long_name='Sea surface temperature',\n",
    "    units='K',\n",
    "    chunks={'time': 12, 'lat': -1, 'lon': -1}\n",
    ")"
   ]
  },
  {
   "cell_type": "markdown",
   "id": "5246d095-cdc0-4dbc-9dbc-be70e0c48736",
   "metadata": {},
   "source": [
    "### Nino 3.4"
   ]
  },
  {
   "cell_type": "code",
   "execution_count": 47,
   "id": "049e920a-f65f-4ab6-b9d9-834fc4867b3a",
   "metadata": {},
   "outputs": [],
   "source": [
    "nino34 = sst_anoms.sst_anom.sel(\n",
    "    lat=slice(5, -5),\n",
    "    lon=slice(-170, -120)\n",
    ").mean(['lat','lon']).to_dataset(name='nino34')"
   ]
  },
  {
   "cell_type": "code",
   "execution_count": 48,
   "id": "bcce4396-a9e8-4293-a89f-2c9c9c1c556d",
   "metadata": {},
   "outputs": [],
   "source": [
    "nino34_dt = fn.detrend_dim(nino34.nino34, 'time').to_dataset(name='nino34_detrended')"
   ]
  },
  {
   "cell_type": "code",
   "execution_count": 49,
   "id": "1c413519-b77f-4ffa-921e-f8ae3353091f",
   "metadata": {},
   "outputs": [],
   "source": [
    "nino34 = nino34.merge(nino34_dt)"
   ]
  },
  {
   "cell_type": "code",
   "execution_count": 50,
   "id": "19924ccc-5123-497c-9573-ac482b9ffc3f",
   "metadata": {},
   "outputs": [
    {
     "data": {
      "text/plain": [
       "<xarray.backends.zarr.ZarrStore at 0x150d125c49e0>"
      ]
     },
     "execution_count": 50,
     "metadata": {},
     "output_type": "execute_result"
    }
   ],
   "source": [
    "nino34_fp = data_fp + dataset + '/climate_modes/'+dataset+'_nino34_'+str(years[0])+'-'+str(years[-1])+'.zarr'\n",
    "nino34.to_zarr(nino34_fp, mode='w', consolidated=True)"
   ]
  },
  {
   "cell_type": "markdown",
   "id": "317dcbec-9492-49ed-adaa-fe85f01bc207",
   "metadata": {},
   "source": [
    "### Dipole mode index"
   ]
  },
  {
   "cell_type": "code",
   "execution_count": 51,
   "id": "0d09bddd-24ab-458c-b7f6-8af674d9e615",
   "metadata": {},
   "outputs": [],
   "source": [
    "def calc_dmi(da):\n",
    "    \"\"\"\n",
    "    Calculate Dipole Mode Index\n",
    "    \"\"\"    \n",
    "    da_W = da.sel(lat=slice(10, -10), lon=slice(50, 70)).mean(['lat', 'lon'])\n",
    "    da_E = da.sel(lat=slice(0, -10), lon=slice(90, 110)).mean(['lat', 'lon'])\n",
    "    \n",
    "    return (da_W - da_E)"
   ]
  },
  {
   "cell_type": "code",
   "execution_count": 52,
   "id": "6ca9f879-23e1-4bee-992b-e63e0ae8e33e",
   "metadata": {},
   "outputs": [],
   "source": [
    "dmi = calc_dmi(sst_anoms.sst_anom).to_dataset(name='dmi')"
   ]
  },
  {
   "cell_type": "code",
   "execution_count": 53,
   "id": "bde8187f-36ea-4d69-8017-9036892beed1",
   "metadata": {},
   "outputs": [],
   "source": [
    "dmi_dt = fn.detrend_dim(dmi.dmi, 'time').to_dataset(name='dmi_detrended')"
   ]
  },
  {
   "cell_type": "code",
   "execution_count": 54,
   "id": "11817727-ff3b-4dfb-bb5c-23176288562a",
   "metadata": {},
   "outputs": [],
   "source": [
    "dmi = dmi.merge(dmi_dt)"
   ]
  },
  {
   "cell_type": "code",
   "execution_count": 55,
   "id": "810362cc-6909-45dc-b6c9-96f7dd4da4aa",
   "metadata": {},
   "outputs": [],
   "source": [
    "dmi_fp = data_fp + dataset + '/climate_modes/'+dataset+'_dmi_'+str(years[0])+'-'+str(years[-1])+'.zarr'"
   ]
  },
  {
   "cell_type": "code",
   "execution_count": 56,
   "id": "947dea34-97dd-4103-a6f6-b315067a8805",
   "metadata": {},
   "outputs": [
    {
     "data": {
      "text/plain": [
       "<xarray.backends.zarr.ZarrStore at 0x150d0f843920>"
      ]
     },
     "execution_count": 56,
     "metadata": {},
     "output_type": "execute_result"
    }
   ],
   "source": [
    "dmi.to_zarr(dmi_fp, mode='w', consolidated=True)"
   ]
  },
  {
   "cell_type": "markdown",
   "id": "48788be9-d88b-4220-8351-dac6f350de2a",
   "metadata": {},
   "source": [
    "# MSLP data"
   ]
  },
  {
   "cell_type": "code",
   "execution_count": 8,
   "id": "121b6b4a-d58d-45fc-b7e2-19327a830295",
   "metadata": {},
   "outputs": [
    {
     "name": "stdout",
     "output_type": "stream",
     "text": [
      "/g/data/w42/dr6273/work/data/era5/mslp/mslp_anom_era5_moda_sfc_1959-2020.zarr\n"
     ]
    }
   ],
   "source": [
    "dataset = 'era5'\n",
    "mslp_fp = data_fp + dataset + '/mslp/mslp_anom_'+dataset+'_moda_sfc_'+str(years[0])+'-'+str(years[-1])+'.zarr'\n",
    "print(mslp_fp)"
   ]
  },
  {
   "cell_type": "code",
   "execution_count": 94,
   "id": "c8ffdb1d-717d-4550-9957-3364d2c0b49e",
   "metadata": {},
   "outputs": [],
   "source": [
    "mslp_anoms = anomalise_and_process(\n",
    "    load=False,\n",
    "    dataset='era5',\n",
    "    filepath=mslp_fp,\n",
    "    data_root_path='/g/data/rt52/era5/single-levels/monthly-averaged/',\n",
    "    var_name='msl',\n",
    "    years=years,\n",
    "    new_var_name='mslp',\n",
    "    long_name='Mean sea level pressure',\n",
    "    units='Pa',\n",
    "    chunks={'time': 12, 'lat': -1, 'lon': -1}\n",
    ")"
   ]
  },
  {
   "cell_type": "markdown",
   "id": "8132f010-d73d-4f7a-bb4d-37de4e153468",
   "metadata": {},
   "source": [
    "### Southern Annular Mode index"
   ]
  },
  {
   "cell_type": "code",
   "execution_count": 26,
   "id": "a871d7d6-3e27-4861-91d9-2a6d7a43fa7c",
   "metadata": {},
   "outputs": [],
   "source": [
    "def calc_sam(mslp_anoms, lat_name='lat', lon_name='lon', time_name='time'):\n",
    "    mslp_40 = mslp_anoms.interp({lat_name: -40}).mean(lon_name)\n",
    "    mslp_65 = mslp_anoms.interp({lat_name: -65}).mean(lon_name)\n",
    "    \n",
    "    norm_40 = mslp_40.groupby(time_name+'.month').apply(lambda x: x / x.std(time_name))\n",
    "    norm_65 = mslp_65.groupby(time_name+'.month').apply(lambda x: x / x.std(time_name))\n",
    "    \n",
    "    return norm_40 - norm_65"
   ]
  },
  {
   "cell_type": "code",
   "execution_count": 27,
   "id": "5b7de44d-9610-4b6e-8bd5-1c180c8ed2ff",
   "metadata": {},
   "outputs": [],
   "source": [
    "sam = calc_sam(mslp_anoms)"
   ]
  },
  {
   "cell_type": "code",
   "execution_count": 31,
   "id": "8de16708-569e-4247-929c-fd0a132a0050",
   "metadata": {},
   "outputs": [],
   "source": [
    "sam = sam.rename({'mslp_anom': 'sam'})"
   ]
  },
  {
   "cell_type": "code",
   "execution_count": 32,
   "id": "5fca1bed-434a-4cd8-9c15-630e0ea8dc36",
   "metadata": {},
   "outputs": [],
   "source": [
    "sam_dt = fn.detrend_dim(sam.sam, 'time').to_dataset(name='sam_detrended')"
   ]
  },
  {
   "cell_type": "code",
   "execution_count": 33,
   "id": "2d6db17d-4a20-4b62-b6e6-355035feb5f0",
   "metadata": {},
   "outputs": [],
   "source": [
    "sam = sam.merge(sam_dt)"
   ]
  },
  {
   "cell_type": "code",
   "execution_count": 36,
   "id": "27cf60fc-e64a-4fef-a800-e69fb0876b37",
   "metadata": {},
   "outputs": [
    {
     "data": {
      "text/plain": [
       "<xarray.backends.zarr.ZarrStore at 0x1524973aad50>"
      ]
     },
     "execution_count": 36,
     "metadata": {},
     "output_type": "execute_result"
    }
   ],
   "source": [
    "sam_fp = data_fp + dataset + '/climate_modes/'+dataset+'_sam_'+str(years[0])+'-'+str(years[-1])+'.zarr'\n",
    "sam.to_zarr(sam_fp, mode='w', consolidated=True)"
   ]
  },
  {
   "cell_type": "markdown",
   "id": "38f21d89-34f0-48aa-a72d-f29aa3e81d0d",
   "metadata": {},
   "source": [
    "# Close cluster"
   ]
  },
  {
   "cell_type": "code",
   "execution_count": 59,
   "id": "dca99be2-eba1-4457-aac3-5a4552044885",
   "metadata": {},
   "outputs": [],
   "source": [
    "client.close()\n",
    "cluster.close()"
   ]
  },
  {
   "cell_type": "code",
   "execution_count": null,
   "id": "e520de80-b857-4da8-ab24-65a903886be0",
   "metadata": {},
   "outputs": [],
   "source": []
  }
 ],
 "metadata": {
  "kernelspec": {
   "display_name": "Python (pangeo)",
   "language": "python",
   "name": "pangeo"
  },
  "language_info": {
   "codemirror_mode": {
    "name": "ipython",
    "version": 3
   },
   "file_extension": ".py",
   "mimetype": "text/x-python",
   "name": "python",
   "nbconvert_exporter": "python",
   "pygments_lexer": "ipython3",
   "version": "3.10.8"
  }
 },
 "nbformat": 4,
 "nbformat_minor": 5
}
