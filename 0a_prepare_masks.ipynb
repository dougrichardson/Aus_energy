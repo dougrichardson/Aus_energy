{
 "cells": [
  {
   "cell_type": "code",
   "execution_count": 3,
   "id": "43c47c41-3ddf-4f04-91e7-d9254627e53c",
   "metadata": {},
   "outputs": [],
   "source": [
    "import xarray as xr\n",
    "import geopandas\n",
    "import regionmask\n",
    "\n",
    "import matplotlib.pyplot as plt\n",
    "\n",
    "import cartopy.crs as ccrs\n",
    "import cartopy\n",
    "cartopy.config['pre_existing_data_dir'] = '/g/data/w42/dr6273/work/data/cartopy-data'\n",
    "cartopy.config['data_dir'] = '/g/data/w42/dr6273/work/data/cartopy-data'"
   ]
  },
  {
   "cell_type": "markdown",
   "id": "5dc5a7f3-8de6-4fd9-b8f8-a023f2ca460e",
   "metadata": {},
   "source": [
    "# Load single instance of ERA5 grid\n",
    "This is to be used with `regionmask` to create our mask"
   ]
  },
  {
   "cell_type": "code",
   "execution_count": 4,
   "id": "294482ab-7a18-4d10-b345-079af8277002",
   "metadata": {},
   "outputs": [],
   "source": [
    "era5_instance = xr.open_dataset('/g/data/rt52/era5/single-levels/monthly-averaged/2t/2010/2t_era5_moda_sfc_20100101-20100131.nc')"
   ]
  },
  {
   "cell_type": "markdown",
   "id": "50ce37b5-1200-4f69-94b7-1e3d0b9eb792",
   "metadata": {},
   "source": [
    "# Load Renewable Energy Zone (REZ) boundaries"
   ]
  },
  {
   "cell_type": "code",
   "execution_count": 15,
   "id": "0c70e214-4bee-45a8-a372-c0f46d4df480",
   "metadata": {},
   "outputs": [],
   "source": [
    "rez_file = '/g/data/w42/dr6273/work/data/REZ_boundaries_2021/Indicative_REZ_boundaries_2021_-_GIS_data-polygon.shp'\n",
    "rez_gpd = geopandas.read_file(rez_file)"
   ]
  },
  {
   "cell_type": "code",
   "execution_count": 97,
   "id": "55737c42-5458-4d0a-9147-b423b3fb408a",
   "metadata": {},
   "outputs": [
    {
     "data": {
      "text/html": [
       "<div>\n",
       "<style scoped>\n",
       "    .dataframe tbody tr th:only-of-type {\n",
       "        vertical-align: middle;\n",
       "    }\n",
       "\n",
       "    .dataframe tbody tr th {\n",
       "        vertical-align: top;\n",
       "    }\n",
       "\n",
       "    .dataframe thead th {\n",
       "        text-align: right;\n",
       "    }\n",
       "</style>\n",
       "<table border=\"1\" class=\"dataframe\">\n",
       "  <thead>\n",
       "    <tr style=\"text-align: right;\">\n",
       "      <th></th>\n",
       "      <th>Name</th>\n",
       "      <th>descriptio</th>\n",
       "      <th>tessellate</th>\n",
       "      <th>geometry</th>\n",
       "    </tr>\n",
       "  </thead>\n",
       "  <tbody>\n",
       "    <tr>\n",
       "      <th>0</th>\n",
       "      <td>Q1 Far North QLD</td>\n",
       "      <td>REZ</td>\n",
       "      <td>1</td>\n",
       "      <td>POLYGON ((146.13492 -17.65256, 146.09725 -17.9...</td>\n",
       "    </tr>\n",
       "    <tr>\n",
       "      <th>1</th>\n",
       "      <td>Q2 North Qld Clean Energy Hub</td>\n",
       "      <td>REZ</td>\n",
       "      <td>1</td>\n",
       "      <td>POLYGON ((143.72015 -16.97938, 143.87955 -16.9...</td>\n",
       "    </tr>\n",
       "    <tr>\n",
       "      <th>2</th>\n",
       "      <td>Q3 Northern Qld</td>\n",
       "      <td>REZ</td>\n",
       "      <td>1</td>\n",
       "      <td>POLYGON ((146.27782 -18.71920, 146.28263 -18.7...</td>\n",
       "    </tr>\n",
       "    <tr>\n",
       "      <th>3</th>\n",
       "      <td>Q4 Isaac</td>\n",
       "      <td>REZ</td>\n",
       "      <td>1</td>\n",
       "      <td>POLYGON ((147.64366 -19.94015, 147.68341 -19.9...</td>\n",
       "    </tr>\n",
       "    <tr>\n",
       "      <th>4</th>\n",
       "      <td>Q5 Barcaldine</td>\n",
       "      <td>REZ</td>\n",
       "      <td>1</td>\n",
       "      <td>POLYGON ((145.82086 -23.84279, 145.70040 -23.8...</td>\n",
       "    </tr>\n",
       "  </tbody>\n",
       "</table>\n",
       "</div>"
      ],
      "text/plain": [
       "                            Name descriptio  tessellate  \\\n",
       "0               Q1 Far North QLD        REZ           1   \n",
       "1  Q2 North Qld Clean Energy Hub        REZ           1   \n",
       "2                Q3 Northern Qld        REZ           1   \n",
       "3                       Q4 Isaac        REZ           1   \n",
       "4                  Q5 Barcaldine        REZ           1   \n",
       "\n",
       "                                            geometry  \n",
       "0  POLYGON ((146.13492 -17.65256, 146.09725 -17.9...  \n",
       "1  POLYGON ((143.72015 -16.97938, 143.87955 -16.9...  \n",
       "2  POLYGON ((146.27782 -18.71920, 146.28263 -18.7...  \n",
       "3  POLYGON ((147.64366 -19.94015, 147.68341 -19.9...  \n",
       "4  POLYGON ((145.82086 -23.84279, 145.70040 -23.8...  "
      ]
     },
     "execution_count": 97,
     "metadata": {},
     "output_type": "execute_result"
    }
   ],
   "source": [
    "rez_gpd.head()"
   ]
  },
  {
   "cell_type": "markdown",
   "id": "964babb8-285f-41d5-b688-ad4b5f35bf7e",
   "metadata": {},
   "source": [
    "# Create REZ mask"
   ]
  },
  {
   "cell_type": "code",
   "execution_count": 84,
   "id": "3209b473-d8ef-4aae-985b-83754e65eee0",
   "metadata": {},
   "outputs": [],
   "source": [
    "rez_mask = regionmask.mask_3D_geopandas(\n",
    "    rez_gpd,\n",
    "    era5_instance.longitude,\n",
    "    era5_instance.latitude,\n",
    ")"
   ]
  },
  {
   "cell_type": "code",
   "execution_count": 85,
   "id": "e4e636fa-b5f9-4e24-8438-f925f0ea0b7e",
   "metadata": {},
   "outputs": [],
   "source": [
    "rez_mask = rez_mask.rename({\n",
    "    'latitude': 'lat',\n",
    "    'longitude': 'lon'\n",
    "})"
   ]
  },
  {
   "cell_type": "markdown",
   "id": "fbb9814e-dda7-412e-9629-488f16f972f1",
   "metadata": {},
   "source": [
    "### Add and sort by the region code (N1, N2, etc.)"
   ]
  },
  {
   "cell_type": "code",
   "execution_count": 86,
   "id": "34ba07a3-9bba-4214-9172-b99f377fa22b",
   "metadata": {},
   "outputs": [],
   "source": [
    "rez_codes = rez_gpd['Name']\n",
    "rez_codes = [i[:2] for i in rez_codes]"
   ]
  },
  {
   "cell_type": "code",
   "execution_count": 87,
   "id": "6e645a88-274d-48dc-9208-0ba58bf9cdbd",
   "metadata": {},
   "outputs": [],
   "source": [
    "rez_mask = rez_mask.assign_coords({\n",
    "    'region': rez_codes\n",
    "})"
   ]
  },
  {
   "cell_type": "code",
   "execution_count": 88,
   "id": "25f02897-8532-417b-bb9c-98eedf78cfa4",
   "metadata": {},
   "outputs": [],
   "source": [
    "rez_mask = rez_mask.sortby('region')"
   ]
  },
  {
   "cell_type": "code",
   "execution_count": 95,
   "id": "eb5d1c18-4b10-4946-bcd4-287028dcba2a",
   "metadata": {},
   "outputs": [
    {
     "data": {
      "text/plain": [
       "<matplotlib.collections.QuadMesh at 0x14fce0ac3df0>"
      ]
     },
     "execution_count": 95,
     "metadata": {},
     "output_type": "execute_result"
    },
    {
     "data": {
      "image/png": "[encoded data removed]",
      "text/plain": [
       "<Figure size 640x480 with 2 Axes>"
      ]
     },
     "metadata": {},
     "output_type": "display_data"
    }
   ],
   "source": [
    "rez_mask.sel(\n",
    "    lat=slice(0,-50),\n",
    "    lon=slice(130, 160)\n",
    ").sum(\n",
    "    'region'\n",
    ").plot()"
   ]
  },
  {
   "cell_type": "markdown",
   "id": "02b71517-7b49-48f2-b478-37ccc7302d1b",
   "metadata": {},
   "source": [
    "# Convert to `dataset` and save"
   ]
  },
  {
   "cell_type": "code",
   "execution_count": 96,
   "id": "f35f69b1-270b-4c87-a17c-1d2ff59a93b2",
   "metadata": {},
   "outputs": [],
   "source": [
    "rez_mask_ds = rez_mask.to_dataset(name='REZ')"
   ]
  },
  {
   "cell_type": "code",
   "execution_count": 98,
   "id": "05580574-69ea-49da-98b0-62e6af3950f9",
   "metadata": {},
   "outputs": [],
   "source": [
    "rez_mask_ds.to_netcdf('/g/data/w42/dr6273/work/projects/Aus_energy/data/rez_mask_era5_grid.nc')"
   ]
  }
 ],
 "metadata": {
  "kernelspec": {
   "display_name": "Python (pangeo)",
   "language": "python",
   "name": "pangeo"
  },
  "language_info": {
   "codemirror_mode": {
    "name": "ipython",
    "version": 3
   },
   "file_extension": ".py",
   "mimetype": "text/x-python",
   "name": "python",
   "nbconvert_exporter": "python",
   "pygments_lexer": "ipython3",
   "version": "3.10.8"
  }
 },
 "nbformat": 4,
 "nbformat_minor": 5
}
